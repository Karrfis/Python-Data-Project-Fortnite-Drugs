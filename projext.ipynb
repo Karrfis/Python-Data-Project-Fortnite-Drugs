{
 "cells": [
  {
   "cell_type": "markdown",
   "metadata": {},
   "source": [
    "Dataset anallysis of mental state (sober or high) vs performance in fortntie\n",
    "https://www.kaggle.com/datasets/johnharshith/fortnite-statistics-corresponding-to-mental-state"
   ]
  },
  {
   "cell_type": "code",
   "execution_count": 2,
   "metadata": {},
   "outputs": [
    {
     "data": {
      "application/vnd.microsoft.datawrangler.viewer.v0+json": {
       "columns": [
        {
         "name": "index",
         "rawType": "int64",
         "type": "integer"
        },
        {
         "name": "Date",
         "rawType": "object",
         "type": "string"
        },
        {
         "name": "Time of Day",
         "rawType": "object",
         "type": "string"
        },
        {
         "name": "Placed",
         "rawType": "int64",
         "type": "integer"
        },
        {
         "name": "Mental State",
         "rawType": "object",
         "type": "string"
        },
        {
         "name": "Eliminations",
         "rawType": "int64",
         "type": "integer"
        },
        {
         "name": "Assists",
         "rawType": "int64",
         "type": "integer"
        },
        {
         "name": "Revives",
         "rawType": "int64",
         "type": "integer"
        },
        {
         "name": "Accuracy",
         "rawType": "object",
         "type": "string"
        },
        {
         "name": "Hits",
         "rawType": "int64",
         "type": "integer"
        },
        {
         "name": "Head Shots",
         "rawType": "int64",
         "type": "integer"
        },
        {
         "name": "Distance Traveled",
         "rawType": "float64",
         "type": "float"
        },
        {
         "name": "Materials Gathered",
         "rawType": "int64",
         "type": "integer"
        },
        {
         "name": "Materials Used",
         "rawType": "int64",
         "type": "integer"
        },
        {
         "name": "Damage Taken",
         "rawType": "int64",
         "type": "integer"
        },
        {
         "name": "Damage to Players",
         "rawType": "int64",
         "type": "integer"
        },
        {
         "name": "Damage to Structures",
         "rawType": "int64",
         "type": "integer"
        }
       ],
       "conversionMethod": "pd.DataFrame",
       "ref": "d0cec85e-c103-4685-8a4f-c9020e0da82f",
       "rows": [
        [
         "0",
         "4/10",
         "6:00 PM",
         "27",
         "sober",
         "2",
         "0",
         "0",
         "23%",
         "14",
         "2",
         "271.08",
         "20",
         "20",
         "272",
         "331",
         "621"
        ],
        [
         "1",
         "4/10",
         "6:00 PM",
         "45",
         "sober",
         "1",
         "2",
         "0",
         "30%",
         "19",
         "1",
         "396.73",
         "123",
         "30",
         "247",
         "444",
         "998"
        ],
        [
         "2",
         "4/10",
         "6:00 PM",
         "38",
         "high",
         "3",
         "0",
         "0",
         "30%",
         "32",
         "1",
         "607.8",
         "71",
         "60",
         "176",
         "322",
         "1109"
        ],
        [
         "3",
         "4/10",
         "7:00 PM",
         "30",
         "high",
         "1",
         "3",
         "0",
         "18%",
         "19",
         "1",
         "714.16",
         "244",
         "10",
         "238",
         "330",
         "4726"
        ],
        [
         "4",
         "4/10",
         "7:00 PM",
         "16",
         "high",
         "3",
         "1",
         "1",
         "58%",
         "42",
         "18",
         "1140.0",
         "584",
         "150",
         "365",
         "668",
         "2070"
        ],
        [
         "5",
         "4/10",
         "7:00 PM",
         "30",
         "high",
         "0",
         "1",
         "0",
         "10%",
         "3",
         "1",
         "575.59",
         "78",
         "60",
         "146",
         "117",
         "5482"
        ],
        [
         "6",
         "4/10",
         "7:00 PM",
         "20",
         "high",
         "3",
         "3",
         "0",
         "25%",
         "41",
         "6",
         "1200.0",
         "1379",
         "150",
         "175",
         "634",
         "3036"
        ],
        [
         "7",
         "4/10",
         "7:00 PM",
         "29",
         "high",
         "2",
         "2",
         "0",
         "25%",
         "17",
         "4",
         "292.43",
         "59",
         "50",
         "219",
         "412",
         "1083"
        ],
        [
         "8",
         "4/10",
         "7:00 PM",
         "21",
         "high",
         "4",
         "0",
         "1",
         "39%",
         "50",
         "14",
         "1160.0",
         "416",
         "20",
         "196",
         "989",
         "9494"
        ],
        [
         "9",
         "4/10",
         "8:00 PM",
         "24",
         "high",
         "1",
         "2",
         "0",
         "35%",
         "30",
         "1",
         "559.11",
         "165",
         "70",
         "150",
         "422",
         "1257"
        ],
        [
         "10",
         "4/10",
         "8:00 PM",
         "35",
         "high",
         "1",
         "2",
         "1",
         "21%",
         "19",
         "0",
         "663.13",
         "127",
         "110",
         "388",
         "420",
         "3343"
        ],
        [
         "11",
         "4/10",
         "8:00 PM",
         "27",
         "high",
         "3",
         "0",
         "0",
         "23%",
         "32",
         "3",
         "638.17",
         "162",
         "20",
         "105",
         "492",
         "1928"
        ],
        [
         "12",
         "4/10",
         "8:00 PM",
         "36",
         "high",
         "1",
         "0",
         "0",
         "18%",
         "11",
         "3",
         "197.45",
         "68",
         "0",
         "101",
         "279",
         "896"
        ],
        [
         "13",
         "4/10",
         "8:00 PM",
         "27",
         "high",
         "4",
         "1",
         "0",
         "27%",
         "38",
         "1",
         "992.29",
         "226",
         "20",
         "106",
         "817",
         "1540"
        ],
        [
         "14",
         "4/11",
         "1:00 PM",
         "17",
         "sober",
         "4",
         "0",
         "3",
         "22%",
         "34",
         "11",
         "610.18",
         "270",
         "30",
         "233",
         "950",
         "1779"
        ],
        [
         "15",
         "4/11",
         "2:00 PM",
         "4",
         "sober",
         "5",
         "4",
         "4",
         "20%",
         "35",
         "3",
         "3230.0",
         "715",
         "420",
         "200",
         "894",
         "9494"
        ],
        [
         "16",
         "4/11",
         "2:00 PM",
         "5",
         "sober",
         "3",
         "6",
         "1",
         "17%",
         "32",
         "11",
         "2780.0",
         "384",
         "370",
         "264",
         "787",
         "3589"
        ],
        [
         "17",
         "4/11",
         "2:00 PM",
         "20",
         "sober",
         "1",
         "6",
         "0",
         "23%",
         "19",
         "2",
         "1650.0",
         "62",
         "60",
         "315",
         "611",
         "3506"
        ],
        [
         "18",
         "4/11",
         "2:00 PM",
         "29",
         "sober",
         "3",
         "1",
         "0",
         "27%",
         "27",
         "7",
         "341.7",
         "20",
         "20",
         "290",
         "659",
         "1047"
        ],
        [
         "19",
         "4/11",
         "2:00 PM",
         "28",
         "sober",
         "1",
         "1",
         "0",
         "46%",
         "13",
         "4",
         "346.04",
         "25",
         "20",
         "161",
         "294",
         "855"
        ],
        [
         "20",
         "4/11",
         "3:00 PM",
         "1",
         "sober",
         "7",
         "0",
         "0",
         "25%",
         "63",
         "9",
         "3320.0",
         "541",
         "530",
         "180",
         "1399",
         "17151"
        ],
        [
         "21",
         "4/11",
         "8:00 PM",
         "49",
         "high",
         "2",
         "0",
         "0",
         "25%",
         "27",
         "0",
         "476.91",
         "167",
         "10",
         "128",
         "327",
         "1984"
        ],
        [
         "22",
         "4/11",
         "8:00 PM",
         "66",
         "high",
         "0",
         "1",
         "0",
         "13%",
         "5",
         "1",
         "216.66",
         "87",
         "0",
         "165",
         "91",
         "1232"
        ],
        [
         "23",
         "4/11",
         "8:00 PM",
         "18",
         "high",
         "5",
         "0",
         "0",
         "26%",
         "60",
         "5",
         "1200.0",
         "806",
         "230",
         "677",
         "766",
         "2041"
        ],
        [
         "24",
         "4/11",
         "9:00 PM",
         "55",
         "high",
         "1",
         "1",
         "0",
         "26%",
         "8",
         "0",
         "338.6",
         "98",
         "90",
         "106",
         "154",
         "309"
        ],
        [
         "25",
         "4/11",
         "9:00 PM",
         "39",
         "high",
         "1",
         "1",
         "0",
         "24%",
         "12",
         "4",
         "229.59",
         "102",
         "90",
         "154",
         "439",
         "327"
        ],
        [
         "26",
         "4/13",
         "1:00 PM",
         "26",
         "sober",
         "4",
         "2",
         "1",
         "20%",
         "46",
         "0",
         "562.26",
         "321",
         "30",
         "100",
         "736",
         "2518"
        ],
        [
         "27",
         "4/13",
         "1:00 PM",
         "18",
         "sober",
         "1",
         "0",
         "0",
         "4%",
         "2",
         "0",
         "693.1",
         "261",
         "70",
         "120",
         "60",
         "1643"
        ],
        [
         "28",
         "4/13",
         "2:00 PM",
         "8",
         "sober",
         "6",
         "2",
         "0",
         "28%",
         "59",
         "10",
         "2560.0",
         "732",
         "320",
         "317",
         "1444",
         "7028"
        ],
        [
         "29",
         "4/13",
         "2:00 PM",
         "19",
         "sober",
         "2",
         "2",
         "0",
         "34%",
         "38",
         "8",
         "616.55",
         "95",
         "80",
         "412",
         "768",
         "1421"
        ],
        [
         "30",
         "4/13",
         "2:00 PM",
         "2",
         "sober",
         "8",
         "0",
         "1",
         "17%",
         "34",
         "7",
         "3790.0",
         "3002",
         "1740",
         "321",
         "1166",
         "10594"
        ],
        [
         "31",
         "4/13",
         "3:00 PM",
         "21",
         "sober",
         "0",
         "2",
         "0",
         "6%",
         "6",
         "0",
         "1240.0",
         "328",
         "120",
         "133",
         "219",
         "2733"
        ],
        [
         "32",
         "4/13",
         "3:00 PM",
         "48",
         "sober",
         "2",
         "0",
         "0",
         "38%",
         "5",
         "0",
         "89.51",
         "69",
         "0",
         "134",
         "385",
         "300"
        ],
        [
         "33",
         "4/13",
         "3:00 PM",
         "14",
         "sober",
         "1",
         "2",
         "0",
         "12%",
         "11",
         "4",
         "1700.0",
         "519",
         "60",
         "316",
         "416",
         "8412"
        ],
        [
         "34",
         "4/13",
         "6:00 PM",
         "22",
         "high",
         "1",
         "1",
         "0",
         "17%",
         "22",
         "3",
         "640.68",
         "70",
         "70",
         "200",
         "302",
         "1257"
        ],
        [
         "35",
         "4/13",
         "6:00 PM",
         "22",
         "high",
         "3",
         "2",
         "1",
         "20%",
         "22",
         "4",
         "399.83",
         "50",
         "50",
         "157",
         "646",
         "1386"
        ],
        [
         "36",
         "4/13",
         "7:00 PM",
         "10",
         "high",
         "3",
         "3",
         "0",
         "22%",
         "48",
         "5",
         "1810.0",
         "512",
         "150",
         "567",
         "651",
         "2371"
        ],
        [
         "37",
         "4/13",
         "7:00 PM",
         "13",
         "high",
         "6",
         "0",
         "0",
         "36%",
         "92",
         "22",
         "1500.0",
         "894",
         "160",
         "257",
         "1253",
         "4871"
        ],
        [
         "38",
         "4/13",
         "8:00 PM",
         "1",
         "high",
         "6",
         "3",
         "1",
         "17%",
         "46",
         "7",
         "3830.0",
         "1907",
         "530",
         "193",
         "1308",
         "18026"
        ],
        [
         "39",
         "4/13",
         "8:00 PM",
         "15",
         "high",
         "2",
         "3",
         "1",
         "26%",
         "45",
         "7",
         "771.01",
         "749",
         "150",
         "422",
         "600",
         "2728"
        ],
        [
         "40",
         "4/13",
         "8:00 PM",
         "16",
         "high",
         "4",
         "2",
         "2",
         "23%",
         "28",
         "2",
         "526.5",
         "153",
         "20",
         "142",
         "922",
         "2220"
        ],
        [
         "41",
         "4/13",
         "9:00 PM",
         "2",
         "high",
         "6",
         "2",
         "0",
         "27%",
         "54",
         "5",
         "4050.0",
         "2553",
         "680",
         "400",
         "1383",
         "4945"
        ],
        [
         "42",
         "4/13",
         "9:00 PM",
         "6",
         "high",
         "1",
         "1",
         "0",
         "8%",
         "8",
         "0",
         "2810.0",
         "288",
         "280",
         "352",
         "256",
         "5036"
        ],
        [
         "43",
         "4/14",
         "12:00 PM",
         "31",
         "sober",
         "3",
         "1",
         "0",
         "29%",
         "21",
         "2",
         "570.68",
         "78",
         "50",
         "343",
         "509",
         "1777"
        ],
        [
         "44",
         "4/14",
         "12:00 PM",
         "21",
         "sober",
         "2",
         "2",
         "0",
         "18%",
         "16",
         "3",
         "661.55",
         "136",
         "40",
         "355",
         "376",
         "1724"
        ],
        [
         "45",
         "4/14",
         "1:00 PM",
         "25",
         "sober",
         "1",
         "0",
         "0",
         "4%",
         "1",
         "1",
         "574.95",
         "204",
         "40",
         "272",
         "157",
         "1219"
        ],
        [
         "46",
         "4/14",
         "1:00 PM",
         "11",
         "sober",
         "2",
         "1",
         "0",
         "17%",
         "24",
         "2",
         "1980.0",
         "970",
         "70",
         "274",
         "335",
         "5948"
        ],
        [
         "47",
         "4/14",
         "1:00 PM",
         "46",
         "sober",
         "1",
         "0",
         "0",
         "90%",
         "36",
         "1",
         "168.94",
         "69",
         "20",
         "206",
         "313",
         "350"
        ],
        [
         "48",
         "4/14",
         "1:00 PM",
         "21",
         "sober",
         "3",
         "0",
         "0",
         "35%",
         "26",
         "1",
         "709.09",
         "230",
         "30",
         "194",
         "548",
         "9240"
        ],
        [
         "49",
         "4/14",
         "1:00 PM",
         "32",
         "sober",
         "0",
         "0",
         "0",
         "10%",
         "9",
         "2",
         "411.05",
         "139",
         "30",
         "212",
         "276",
         "2090"
        ]
       ],
       "shape": {
        "columns": 16,
        "rows": 80
       }
      },
      "text/html": [
       "<div>\n",
       "<style scoped>\n",
       "    .dataframe tbody tr th:only-of-type {\n",
       "        vertical-align: middle;\n",
       "    }\n",
       "\n",
       "    .dataframe tbody tr th {\n",
       "        vertical-align: top;\n",
       "    }\n",
       "\n",
       "    .dataframe thead th {\n",
       "        text-align: right;\n",
       "    }\n",
       "</style>\n",
       "<table border=\"1\" class=\"dataframe\">\n",
       "  <thead>\n",
       "    <tr style=\"text-align: right;\">\n",
       "      <th></th>\n",
       "      <th>Date</th>\n",
       "      <th>Time of Day</th>\n",
       "      <th>Placed</th>\n",
       "      <th>Mental State</th>\n",
       "      <th>Eliminations</th>\n",
       "      <th>Assists</th>\n",
       "      <th>Revives</th>\n",
       "      <th>Accuracy</th>\n",
       "      <th>Hits</th>\n",
       "      <th>Head Shots</th>\n",
       "      <th>Distance Traveled</th>\n",
       "      <th>Materials Gathered</th>\n",
       "      <th>Materials Used</th>\n",
       "      <th>Damage Taken</th>\n",
       "      <th>Damage to Players</th>\n",
       "      <th>Damage to Structures</th>\n",
       "    </tr>\n",
       "  </thead>\n",
       "  <tbody>\n",
       "    <tr>\n",
       "      <th>0</th>\n",
       "      <td>4/10</td>\n",
       "      <td>6:00 PM</td>\n",
       "      <td>27</td>\n",
       "      <td>sober</td>\n",
       "      <td>2</td>\n",
       "      <td>0</td>\n",
       "      <td>0</td>\n",
       "      <td>23%</td>\n",
       "      <td>14</td>\n",
       "      <td>2</td>\n",
       "      <td>271.08</td>\n",
       "      <td>20</td>\n",
       "      <td>20</td>\n",
       "      <td>272</td>\n",
       "      <td>331</td>\n",
       "      <td>621</td>\n",
       "    </tr>\n",
       "    <tr>\n",
       "      <th>1</th>\n",
       "      <td>4/10</td>\n",
       "      <td>6:00 PM</td>\n",
       "      <td>45</td>\n",
       "      <td>sober</td>\n",
       "      <td>1</td>\n",
       "      <td>2</td>\n",
       "      <td>0</td>\n",
       "      <td>30%</td>\n",
       "      <td>19</td>\n",
       "      <td>1</td>\n",
       "      <td>396.73</td>\n",
       "      <td>123</td>\n",
       "      <td>30</td>\n",
       "      <td>247</td>\n",
       "      <td>444</td>\n",
       "      <td>998</td>\n",
       "    </tr>\n",
       "    <tr>\n",
       "      <th>2</th>\n",
       "      <td>4/10</td>\n",
       "      <td>6:00 PM</td>\n",
       "      <td>38</td>\n",
       "      <td>high</td>\n",
       "      <td>3</td>\n",
       "      <td>0</td>\n",
       "      <td>0</td>\n",
       "      <td>30%</td>\n",
       "      <td>32</td>\n",
       "      <td>1</td>\n",
       "      <td>607.80</td>\n",
       "      <td>71</td>\n",
       "      <td>60</td>\n",
       "      <td>176</td>\n",
       "      <td>322</td>\n",
       "      <td>1109</td>\n",
       "    </tr>\n",
       "    <tr>\n",
       "      <th>3</th>\n",
       "      <td>4/10</td>\n",
       "      <td>7:00 PM</td>\n",
       "      <td>30</td>\n",
       "      <td>high</td>\n",
       "      <td>1</td>\n",
       "      <td>3</td>\n",
       "      <td>0</td>\n",
       "      <td>18%</td>\n",
       "      <td>19</td>\n",
       "      <td>1</td>\n",
       "      <td>714.16</td>\n",
       "      <td>244</td>\n",
       "      <td>10</td>\n",
       "      <td>238</td>\n",
       "      <td>330</td>\n",
       "      <td>4726</td>\n",
       "    </tr>\n",
       "    <tr>\n",
       "      <th>4</th>\n",
       "      <td>4/10</td>\n",
       "      <td>7:00 PM</td>\n",
       "      <td>16</td>\n",
       "      <td>high</td>\n",
       "      <td>3</td>\n",
       "      <td>1</td>\n",
       "      <td>1</td>\n",
       "      <td>58%</td>\n",
       "      <td>42</td>\n",
       "      <td>18</td>\n",
       "      <td>1140.00</td>\n",
       "      <td>584</td>\n",
       "      <td>150</td>\n",
       "      <td>365</td>\n",
       "      <td>668</td>\n",
       "      <td>2070</td>\n",
       "    </tr>\n",
       "    <tr>\n",
       "      <th>...</th>\n",
       "      <td>...</td>\n",
       "      <td>...</td>\n",
       "      <td>...</td>\n",
       "      <td>...</td>\n",
       "      <td>...</td>\n",
       "      <td>...</td>\n",
       "      <td>...</td>\n",
       "      <td>...</td>\n",
       "      <td>...</td>\n",
       "      <td>...</td>\n",
       "      <td>...</td>\n",
       "      <td>...</td>\n",
       "      <td>...</td>\n",
       "      <td>...</td>\n",
       "      <td>...</td>\n",
       "      <td>...</td>\n",
       "    </tr>\n",
       "    <tr>\n",
       "      <th>75</th>\n",
       "      <td>4/15</td>\n",
       "      <td>6:00 PM</td>\n",
       "      <td>22</td>\n",
       "      <td>high</td>\n",
       "      <td>3</td>\n",
       "      <td>3</td>\n",
       "      <td>1</td>\n",
       "      <td>34%</td>\n",
       "      <td>78</td>\n",
       "      <td>5</td>\n",
       "      <td>361.31</td>\n",
       "      <td>0</td>\n",
       "      <td>0</td>\n",
       "      <td>329</td>\n",
       "      <td>362</td>\n",
       "      <td>990</td>\n",
       "    </tr>\n",
       "    <tr>\n",
       "      <th>76</th>\n",
       "      <td>4/15</td>\n",
       "      <td>10:00 PM</td>\n",
       "      <td>15</td>\n",
       "      <td>sober</td>\n",
       "      <td>3</td>\n",
       "      <td>0</td>\n",
       "      <td>1</td>\n",
       "      <td>36%</td>\n",
       "      <td>83</td>\n",
       "      <td>13</td>\n",
       "      <td>336.46</td>\n",
       "      <td>175</td>\n",
       "      <td>10</td>\n",
       "      <td>223</td>\n",
       "      <td>1014</td>\n",
       "      <td>2434</td>\n",
       "    </tr>\n",
       "    <tr>\n",
       "      <th>77</th>\n",
       "      <td>4/15</td>\n",
       "      <td>11:00 PM</td>\n",
       "      <td>34</td>\n",
       "      <td>sober</td>\n",
       "      <td>2</td>\n",
       "      <td>2</td>\n",
       "      <td>1</td>\n",
       "      <td>53%</td>\n",
       "      <td>61</td>\n",
       "      <td>3</td>\n",
       "      <td>314.10</td>\n",
       "      <td>60</td>\n",
       "      <td>0</td>\n",
       "      <td>106</td>\n",
       "      <td>658</td>\n",
       "      <td>415</td>\n",
       "    </tr>\n",
       "    <tr>\n",
       "      <th>78</th>\n",
       "      <td>4/15</td>\n",
       "      <td>11:00 PM</td>\n",
       "      <td>15</td>\n",
       "      <td>sober</td>\n",
       "      <td>1</td>\n",
       "      <td>1</td>\n",
       "      <td>1</td>\n",
       "      <td>45%</td>\n",
       "      <td>30</td>\n",
       "      <td>0</td>\n",
       "      <td>1170.00</td>\n",
       "      <td>99</td>\n",
       "      <td>80</td>\n",
       "      <td>151</td>\n",
       "      <td>286</td>\n",
       "      <td>553</td>\n",
       "    </tr>\n",
       "    <tr>\n",
       "      <th>79</th>\n",
       "      <td>4/15</td>\n",
       "      <td>11:00 PM</td>\n",
       "      <td>4</td>\n",
       "      <td>sober</td>\n",
       "      <td>5</td>\n",
       "      <td>2</td>\n",
       "      <td>2</td>\n",
       "      <td>42%</td>\n",
       "      <td>52</td>\n",
       "      <td>0</td>\n",
       "      <td>3550.00</td>\n",
       "      <td>850</td>\n",
       "      <td>450</td>\n",
       "      <td>436</td>\n",
       "      <td>724</td>\n",
       "      <td>1377</td>\n",
       "    </tr>\n",
       "  </tbody>\n",
       "</table>\n",
       "<p>80 rows × 16 columns</p>\n",
       "</div>"
      ],
      "text/plain": [
       "    Date Time of Day  Placed Mental State  Eliminations  Assists  Revives  \\\n",
       "0   4/10     6:00 PM      27        sober             2        0        0   \n",
       "1   4/10     6:00 PM      45        sober             1        2        0   \n",
       "2   4/10     6:00 PM      38         high             3        0        0   \n",
       "3   4/10     7:00 PM      30         high             1        3        0   \n",
       "4   4/10     7:00 PM      16         high             3        1        1   \n",
       "..   ...         ...     ...          ...           ...      ...      ...   \n",
       "75  4/15     6:00 PM      22         high             3        3        1   \n",
       "76  4/15    10:00 PM      15        sober             3        0        1   \n",
       "77  4/15    11:00 PM      34        sober             2        2        1   \n",
       "78  4/15    11:00 PM      15        sober             1        1        1   \n",
       "79  4/15    11:00 PM       4        sober             5        2        2   \n",
       "\n",
       "   Accuracy  Hits  Head Shots  Distance Traveled  Materials Gathered  \\\n",
       "0       23%    14           2             271.08                  20   \n",
       "1       30%    19           1             396.73                 123   \n",
       "2       30%    32           1             607.80                  71   \n",
       "3       18%    19           1             714.16                 244   \n",
       "4       58%    42          18            1140.00                 584   \n",
       "..      ...   ...         ...                ...                 ...   \n",
       "75      34%    78           5             361.31                   0   \n",
       "76      36%    83          13             336.46                 175   \n",
       "77      53%    61           3             314.10                  60   \n",
       "78      45%    30           0            1170.00                  99   \n",
       "79      42%    52           0            3550.00                 850   \n",
       "\n",
       "    Materials Used  Damage Taken  Damage to Players  Damage to Structures  \n",
       "0               20           272                331                   621  \n",
       "1               30           247                444                   998  \n",
       "2               60           176                322                  1109  \n",
       "3               10           238                330                  4726  \n",
       "4              150           365                668                  2070  \n",
       "..             ...           ...                ...                   ...  \n",
       "75               0           329                362                   990  \n",
       "76              10           223               1014                  2434  \n",
       "77               0           106                658                   415  \n",
       "78              80           151                286                   553  \n",
       "79             450           436                724                  1377  \n",
       "\n",
       "[80 rows x 16 columns]"
      ]
     },
     "execution_count": 2,
     "metadata": {},
     "output_type": "execute_result"
    }
   ],
   "source": [
    "import pandas as pd\n",
    "import plotly.express as px\n",
    "import numpy as np\n",
    "import seaborn as sns\n",
    "import matplotlib.pyplot as plt\n",
    "\n",
    "fortnite_df = pd.read_csv('Datasets/FortniteStatistics.csv', sep=',')\n",
    "\n",
    "fortnite_df"
   ]
  },
  {
   "cell_type": "markdown",
   "metadata": {},
   "source": [
    "todo: \n",
    "\n",
    "is it better to play fortnite while high or sober, justify taking drugs based on final results\n",
    "\n",
    "\n"
   ]
  },
  {
   "cell_type": "markdown",
   "metadata": {},
   "source": [
    "Brief\n",
    "\n",
    "expected to do in a jpyter ntebook\n",
    "make sue of the markdown cells to explain what it is i am doing talk about where the dat is from and the goal of the project,to give it a bit of context, ptetend it is an actual predentation, or something for other people to read, make the notes good\n",
    "\n",
    "load packages, expected to use pandas and numpy, do some plots with plotly express as we have been using it\n",
    "\n",
    "Load in the datset, it will be a CSV from kaggle, load it into python and the expectation is an exloration and guide through the data, tell features & interesting things\n",
    "\n",
    "\n",
    "Make a description of the data, what the columsn are, what does it tell us, how many observations and the years it is from, give some contet for the data\n",
    "\n",
    "next explore the data, print out the data/head of the data and explore it\n",
    "look at types, make modifications as needed (like date to datetime data etc) look at the shapes and size, use the describe function to get an averview of the numeric data, check out averges and quantiles, if the data is catgorical, look at if you can coun the numbr of things in different colums\n",
    "\n",
    "then do some plotting, bar charts, to see number of entries as things vary\n",
    "then if there are questions, ansert the questions that you find as you go through it, write down question and thought process as moving through th dataset, use this to guide the rest of the project, You dont need to answer them all but it shows that you have the throught process and ideas, even if you cant find the tools to work through it\n",
    "\n",
    "can look at some more sophisticated plots, like spliitng bar chart by country (plotly is interactive) this allows easy comparison, can zoom in out etc\n",
    "\n",
    "look at histograms, they give an idea of data distribution, we looked at changing histogram bins to give more fine grained data that an lead to seeing more interesting points, but can also be too specific to loose the overall patterns, or have a small amount of bins, thatr can give a good patten ovrview but can loose the detail, ind the optimal bins, explain why its good bad, explain what the histrogram shows you\n",
    "\n",
    "what is this plot showing, why have you chosen this plot, why have you chosen ZYX from dataset to compare, and what you have learnt fromm it \n",
    "this project is about using the tools and the abilities we have lernt over the past few weeks & notepads to demonstrate that we can do python\n",
    "\n",
    "the real value is my ability to demonstrate that i can think hrouhg a problem, knw how to work through and expore data and can demonstrate the thought process\n",
    "showing you knw hwo to use tools to answer questions and investigate things is whats useful, explian your code and choice of dataset\n",
    "\n",
    "it is expected to be a bit longer investicgate mor epots, calculate more avergaes, \n",
    "\n",
    "if you want to take it further because you are a nerd\n",
    "you can introduce linear regression choose a colum to predict based on other coumsn and look at how well the mkodel performs, comapre it to over models and columsn\n",
    "if its appropriate you can build a simulator and compare that to your data (see today's proejct) if you want to use an external fucntion like GPT integrate it into your solutions, go wild\n",
    "\n",
    "the main thing needed is load data, show plots, describe and explain data depends how much of a nerd u want to be\n",
    "\n",
    "you can add a conclusion if it starts with a question e.g which X are the best predictors of X\n",
    "conclude X is best blah blah\n",
    "mainly want to see through process of how you perosnally manage the data can use research if you find questions you want to answer, this will show your research skills off, obviously cite your sources,\n",
    "\n",
    "\n",
    "\n",
    "\n",
    "\n",
    "\n",
    "/r/dataisbeautiful\n",
    "seaborn for pretty but non interactive graphs, w used it a while ago it will be somewhere\n",
    "check documentation for packages if needed\n",
    "\n",
    "26th feb\n",
    "\n"
   ]
  },
  {
   "cell_type": "code",
   "execution_count": 3,
   "metadata": {},
   "outputs": [],
   "source": [
    "fortnite_df['Date And Time'] = pd.to_datetime(fortnite_df['Date'] + ' ' + fortnite_df['Time of Day'], format='%m/%d %I:%M %p')\n",
    "fortnite_df['Date And Time'] = fortnite_df['Date And Time'].dt.strftime('%d-%m %I:%M %p')\n",
    "fortnite_df.rename(columns={'Time of Day': 'Time'}, inplace=True)\n",
    "fortnite = fortnite_df.drop('Date', axis=1) \n",
    "# since the date axis has been converted and merged , it can be dropped as it is no longer needed\n",
    "# we will keep the original time of day column as it is useful for the analysis, but we will rename it to time \n",
    "#as it is easier to understand and reference"
   ]
  },
  {
   "cell_type": "code",
   "execution_count": 4,
   "metadata": {},
   "outputs": [
    {
     "data": {
      "text/plain": [
       "(80, 16)"
      ]
     },
     "execution_count": 4,
     "metadata": {},
     "output_type": "execute_result"
    }
   ],
   "source": [
    "fortnite.shape\n",
    "# 80 rows, 16 columns"
   ]
  },
  {
   "cell_type": "code",
   "execution_count": 5,
   "metadata": {},
   "outputs": [
    {
     "name": "stdout",
     "output_type": "stream",
     "text": [
      "<class 'pandas.core.frame.DataFrame'>\n",
      "RangeIndex: 80 entries, 0 to 79\n",
      "Data columns (total 16 columns):\n",
      " #   Column                Non-Null Count  Dtype  \n",
      "---  ------                --------------  -----  \n",
      " 0   Time                  80 non-null     object \n",
      " 1   Placed                80 non-null     int64  \n",
      " 2   Mental State          80 non-null     object \n",
      " 3   Eliminations          80 non-null     int64  \n",
      " 4   Assists               80 non-null     int64  \n",
      " 5   Revives               80 non-null     int64  \n",
      " 6   Accuracy              80 non-null     object \n",
      " 7   Hits                  80 non-null     int64  \n",
      " 8   Head Shots            80 non-null     int64  \n",
      " 9   Distance Traveled     80 non-null     float64\n",
      " 10  Materials Gathered    80 non-null     int64  \n",
      " 11  Materials Used        80 non-null     int64  \n",
      " 12  Damage Taken          80 non-null     int64  \n",
      " 13  Damage to Players     80 non-null     int64  \n",
      " 14  Damage to Structures  80 non-null     int64  \n",
      " 15  Date And Time         80 non-null     object \n",
      "dtypes: float64(1), int64(11), object(4)\n",
      "memory usage: 10.1+ KB\n"
     ]
    }
   ],
   "source": [
    "fortnite.info()"
   ]
  },
  {
   "cell_type": "code",
   "execution_count": 6,
   "metadata": {},
   "outputs": [
    {
     "data": {
      "application/vnd.plotly.v1+json": {
       "config": {
        "plotlyServerURL": "https://plot.ly"
       },
       "data": [
        {
         "alignmentgroup": "True",
         "bingroup": "x",
         "histfunc": "count",
         "hovertemplate": "Date And Time=%{x}<br>count=%{y}<extra></extra>",
         "legendgroup": "",
         "marker": {
          "color": "#636efa",
          "pattern": {
           "shape": ""
          }
         },
         "name": "",
         "offsetgroup": "",
         "orientation": "v",
         "showlegend": false,
         "type": "histogram",
         "x": [
          "10-04 06:00 PM",
          "10-04 06:00 PM",
          "10-04 06:00 PM",
          "10-04 07:00 PM",
          "10-04 07:00 PM",
          "10-04 07:00 PM",
          "10-04 07:00 PM",
          "10-04 07:00 PM",
          "10-04 07:00 PM",
          "10-04 08:00 PM",
          "10-04 08:00 PM",
          "10-04 08:00 PM",
          "10-04 08:00 PM",
          "10-04 08:00 PM",
          "11-04 01:00 PM",
          "11-04 02:00 PM",
          "11-04 02:00 PM",
          "11-04 02:00 PM",
          "11-04 02:00 PM",
          "11-04 02:00 PM",
          "11-04 03:00 PM",
          "11-04 08:00 PM",
          "11-04 08:00 PM",
          "11-04 08:00 PM",
          "11-04 09:00 PM",
          "11-04 09:00 PM",
          "13-04 01:00 PM",
          "13-04 01:00 PM",
          "13-04 02:00 PM",
          "13-04 02:00 PM",
          "13-04 02:00 PM",
          "13-04 03:00 PM",
          "13-04 03:00 PM",
          "13-04 03:00 PM",
          "13-04 06:00 PM",
          "13-04 06:00 PM",
          "13-04 07:00 PM",
          "13-04 07:00 PM",
          "13-04 08:00 PM",
          "13-04 08:00 PM",
          "13-04 08:00 PM",
          "13-04 09:00 PM",
          "13-04 09:00 PM",
          "14-04 12:00 PM",
          "14-04 12:00 PM",
          "14-04 01:00 PM",
          "14-04 01:00 PM",
          "14-04 01:00 PM",
          "14-04 01:00 PM",
          "14-04 01:00 PM",
          "14-04 01:00 PM",
          "14-04 01:00 PM",
          "14-04 02:00 PM",
          "14-04 02:00 PM",
          "14-04 02:00 PM",
          "14-04 02:00 PM",
          "14-04 02:00 PM",
          "14-04 02:00 PM",
          "14-04 03:00 PM",
          "14-04 03:00 PM",
          "14-04 04:00 PM",
          "14-04 04:00 PM",
          "14-04 04:00 PM",
          "14-04 04:00 PM",
          "14-04 04:00 PM",
          "14-04 07:00 PM",
          "14-04 07:00 PM",
          "15-04 01:00 PM",
          "15-04 01:00 PM",
          "15-04 02:00 PM",
          "15-04 02:00 PM",
          "15-04 05:00 PM",
          "15-04 05:00 PM",
          "15-04 05:00 PM",
          "15-04 06:00 PM",
          "15-04 06:00 PM",
          "15-04 10:00 PM",
          "15-04 11:00 PM",
          "15-04 11:00 PM",
          "15-04 11:00 PM"
         ],
         "xaxis": "x",
         "y": [
          0,
          1,
          2,
          3,
          4,
          5,
          6,
          7,
          8,
          9,
          10,
          11,
          12,
          13,
          14,
          15,
          16,
          17,
          18,
          19,
          20,
          21,
          22,
          23,
          24,
          25,
          26,
          27,
          28,
          29,
          30,
          31,
          32,
          33,
          34,
          35,
          36,
          37,
          38,
          39,
          40,
          41,
          42,
          43,
          44,
          45,
          46,
          47,
          48,
          49,
          50,
          51,
          52,
          53,
          54,
          55,
          56,
          57,
          58,
          59,
          60,
          61,
          62,
          63,
          64,
          65,
          66,
          67,
          68,
          69,
          70,
          71,
          72,
          73,
          74,
          75,
          76,
          77,
          78,
          79
         ],
         "yaxis": "y"
        }
       ],
       "layout": {
        "barmode": "relative",
        "legend": {
         "tracegroupgap": 0
        },
        "template": {
         "data": {
          "bar": [
           {
            "error_x": {
             "color": "#2a3f5f"
            },
            "error_y": {
             "color": "#2a3f5f"
            },
            "marker": {
             "line": {
              "color": "#E5ECF6",
              "width": 0.5
             },
             "pattern": {
              "fillmode": "overlay",
              "size": 10,
              "solidity": 0.2
             }
            },
            "type": "bar"
           }
          ],
          "barpolar": [
           {
            "marker": {
             "line": {
              "color": "#E5ECF6",
              "width": 0.5
             },
             "pattern": {
              "fillmode": "overlay",
              "size": 10,
              "solidity": 0.2
             }
            },
            "type": "barpolar"
           }
          ],
          "carpet": [
           {
            "aaxis": {
             "endlinecolor": "#2a3f5f",
             "gridcolor": "white",
             "linecolor": "white",
             "minorgridcolor": "white",
             "startlinecolor": "#2a3f5f"
            },
            "baxis": {
             "endlinecolor": "#2a3f5f",
             "gridcolor": "white",
             "linecolor": "white",
             "minorgridcolor": "white",
             "startlinecolor": "#2a3f5f"
            },
            "type": "carpet"
           }
          ],
          "choropleth": [
           {
            "colorbar": {
             "outlinewidth": 0,
             "ticks": ""
            },
            "type": "choropleth"
           }
          ],
          "contour": [
           {
            "colorbar": {
             "outlinewidth": 0,
             "ticks": ""
            },
            "colorscale": [
             [
              0,
              "#0d0887"
             ],
             [
              0.1111111111111111,
              "#46039f"
             ],
             [
              0.2222222222222222,
              "#7201a8"
             ],
             [
              0.3333333333333333,
              "#9c179e"
             ],
             [
              0.4444444444444444,
              "#bd3786"
             ],
             [
              0.5555555555555556,
              "#d8576b"
             ],
             [
              0.6666666666666666,
              "#ed7953"
             ],
             [
              0.7777777777777778,
              "#fb9f3a"
             ],
             [
              0.8888888888888888,
              "#fdca26"
             ],
             [
              1,
              "#f0f921"
             ]
            ],
            "type": "contour"
           }
          ],
          "contourcarpet": [
           {
            "colorbar": {
             "outlinewidth": 0,
             "ticks": ""
            },
            "type": "contourcarpet"
           }
          ],
          "heatmap": [
           {
            "colorbar": {
             "outlinewidth": 0,
             "ticks": ""
            },
            "colorscale": [
             [
              0,
              "#0d0887"
             ],
             [
              0.1111111111111111,
              "#46039f"
             ],
             [
              0.2222222222222222,
              "#7201a8"
             ],
             [
              0.3333333333333333,
              "#9c179e"
             ],
             [
              0.4444444444444444,
              "#bd3786"
             ],
             [
              0.5555555555555556,
              "#d8576b"
             ],
             [
              0.6666666666666666,
              "#ed7953"
             ],
             [
              0.7777777777777778,
              "#fb9f3a"
             ],
             [
              0.8888888888888888,
              "#fdca26"
             ],
             [
              1,
              "#f0f921"
             ]
            ],
            "type": "heatmap"
           }
          ],
          "heatmapgl": [
           {
            "colorbar": {
             "outlinewidth": 0,
             "ticks": ""
            },
            "colorscale": [
             [
              0,
              "#0d0887"
             ],
             [
              0.1111111111111111,
              "#46039f"
             ],
             [
              0.2222222222222222,
              "#7201a8"
             ],
             [
              0.3333333333333333,
              "#9c179e"
             ],
             [
              0.4444444444444444,
              "#bd3786"
             ],
             [
              0.5555555555555556,
              "#d8576b"
             ],
             [
              0.6666666666666666,
              "#ed7953"
             ],
             [
              0.7777777777777778,
              "#fb9f3a"
             ],
             [
              0.8888888888888888,
              "#fdca26"
             ],
             [
              1,
              "#f0f921"
             ]
            ],
            "type": "heatmapgl"
           }
          ],
          "histogram": [
           {
            "marker": {
             "pattern": {
              "fillmode": "overlay",
              "size": 10,
              "solidity": 0.2
             }
            },
            "type": "histogram"
           }
          ],
          "histogram2d": [
           {
            "colorbar": {
             "outlinewidth": 0,
             "ticks": ""
            },
            "colorscale": [
             [
              0,
              "#0d0887"
             ],
             [
              0.1111111111111111,
              "#46039f"
             ],
             [
              0.2222222222222222,
              "#7201a8"
             ],
             [
              0.3333333333333333,
              "#9c179e"
             ],
             [
              0.4444444444444444,
              "#bd3786"
             ],
             [
              0.5555555555555556,
              "#d8576b"
             ],
             [
              0.6666666666666666,
              "#ed7953"
             ],
             [
              0.7777777777777778,
              "#fb9f3a"
             ],
             [
              0.8888888888888888,
              "#fdca26"
             ],
             [
              1,
              "#f0f921"
             ]
            ],
            "type": "histogram2d"
           }
          ],
          "histogram2dcontour": [
           {
            "colorbar": {
             "outlinewidth": 0,
             "ticks": ""
            },
            "colorscale": [
             [
              0,
              "#0d0887"
             ],
             [
              0.1111111111111111,
              "#46039f"
             ],
             [
              0.2222222222222222,
              "#7201a8"
             ],
             [
              0.3333333333333333,
              "#9c179e"
             ],
             [
              0.4444444444444444,
              "#bd3786"
             ],
             [
              0.5555555555555556,
              "#d8576b"
             ],
             [
              0.6666666666666666,
              "#ed7953"
             ],
             [
              0.7777777777777778,
              "#fb9f3a"
             ],
             [
              0.8888888888888888,
              "#fdca26"
             ],
             [
              1,
              "#f0f921"
             ]
            ],
            "type": "histogram2dcontour"
           }
          ],
          "mesh3d": [
           {
            "colorbar": {
             "outlinewidth": 0,
             "ticks": ""
            },
            "type": "mesh3d"
           }
          ],
          "parcoords": [
           {
            "line": {
             "colorbar": {
              "outlinewidth": 0,
              "ticks": ""
             }
            },
            "type": "parcoords"
           }
          ],
          "pie": [
           {
            "automargin": true,
            "type": "pie"
           }
          ],
          "scatter": [
           {
            "fillpattern": {
             "fillmode": "overlay",
             "size": 10,
             "solidity": 0.2
            },
            "type": "scatter"
           }
          ],
          "scatter3d": [
           {
            "line": {
             "colorbar": {
              "outlinewidth": 0,
              "ticks": ""
             }
            },
            "marker": {
             "colorbar": {
              "outlinewidth": 0,
              "ticks": ""
             }
            },
            "type": "scatter3d"
           }
          ],
          "scattercarpet": [
           {
            "marker": {
             "colorbar": {
              "outlinewidth": 0,
              "ticks": ""
             }
            },
            "type": "scattercarpet"
           }
          ],
          "scattergeo": [
           {
            "marker": {
             "colorbar": {
              "outlinewidth": 0,
              "ticks": ""
             }
            },
            "type": "scattergeo"
           }
          ],
          "scattergl": [
           {
            "marker": {
             "colorbar": {
              "outlinewidth": 0,
              "ticks": ""
             }
            },
            "type": "scattergl"
           }
          ],
          "scattermapbox": [
           {
            "marker": {
             "colorbar": {
              "outlinewidth": 0,
              "ticks": ""
             }
            },
            "type": "scattermapbox"
           }
          ],
          "scatterpolar": [
           {
            "marker": {
             "colorbar": {
              "outlinewidth": 0,
              "ticks": ""
             }
            },
            "type": "scatterpolar"
           }
          ],
          "scatterpolargl": [
           {
            "marker": {
             "colorbar": {
              "outlinewidth": 0,
              "ticks": ""
             }
            },
            "type": "scatterpolargl"
           }
          ],
          "scatterternary": [
           {
            "marker": {
             "colorbar": {
              "outlinewidth": 0,
              "ticks": ""
             }
            },
            "type": "scatterternary"
           }
          ],
          "surface": [
           {
            "colorbar": {
             "outlinewidth": 0,
             "ticks": ""
            },
            "colorscale": [
             [
              0,
              "#0d0887"
             ],
             [
              0.1111111111111111,
              "#46039f"
             ],
             [
              0.2222222222222222,
              "#7201a8"
             ],
             [
              0.3333333333333333,
              "#9c179e"
             ],
             [
              0.4444444444444444,
              "#bd3786"
             ],
             [
              0.5555555555555556,
              "#d8576b"
             ],
             [
              0.6666666666666666,
              "#ed7953"
             ],
             [
              0.7777777777777778,
              "#fb9f3a"
             ],
             [
              0.8888888888888888,
              "#fdca26"
             ],
             [
              1,
              "#f0f921"
             ]
            ],
            "type": "surface"
           }
          ],
          "table": [
           {
            "cells": {
             "fill": {
              "color": "#EBF0F8"
             },
             "line": {
              "color": "white"
             }
            },
            "header": {
             "fill": {
              "color": "#C8D4E3"
             },
             "line": {
              "color": "white"
             }
            },
            "type": "table"
           }
          ]
         },
         "layout": {
          "annotationdefaults": {
           "arrowcolor": "#2a3f5f",
           "arrowhead": 0,
           "arrowwidth": 1
          },
          "autotypenumbers": "strict",
          "coloraxis": {
           "colorbar": {
            "outlinewidth": 0,
            "ticks": ""
           }
          },
          "colorscale": {
           "diverging": [
            [
             0,
             "#8e0152"
            ],
            [
             0.1,
             "#c51b7d"
            ],
            [
             0.2,
             "#de77ae"
            ],
            [
             0.3,
             "#f1b6da"
            ],
            [
             0.4,
             "#fde0ef"
            ],
            [
             0.5,
             "#f7f7f7"
            ],
            [
             0.6,
             "#e6f5d0"
            ],
            [
             0.7,
             "#b8e186"
            ],
            [
             0.8,
             "#7fbc41"
            ],
            [
             0.9,
             "#4d9221"
            ],
            [
             1,
             "#276419"
            ]
           ],
           "sequential": [
            [
             0,
             "#0d0887"
            ],
            [
             0.1111111111111111,
             "#46039f"
            ],
            [
             0.2222222222222222,
             "#7201a8"
            ],
            [
             0.3333333333333333,
             "#9c179e"
            ],
            [
             0.4444444444444444,
             "#bd3786"
            ],
            [
             0.5555555555555556,
             "#d8576b"
            ],
            [
             0.6666666666666666,
             "#ed7953"
            ],
            [
             0.7777777777777778,
             "#fb9f3a"
            ],
            [
             0.8888888888888888,
             "#fdca26"
            ],
            [
             1,
             "#f0f921"
            ]
           ],
           "sequentialminus": [
            [
             0,
             "#0d0887"
            ],
            [
             0.1111111111111111,
             "#46039f"
            ],
            [
             0.2222222222222222,
             "#7201a8"
            ],
            [
             0.3333333333333333,
             "#9c179e"
            ],
            [
             0.4444444444444444,
             "#bd3786"
            ],
            [
             0.5555555555555556,
             "#d8576b"
            ],
            [
             0.6666666666666666,
             "#ed7953"
            ],
            [
             0.7777777777777778,
             "#fb9f3a"
            ],
            [
             0.8888888888888888,
             "#fdca26"
            ],
            [
             1,
             "#f0f921"
            ]
           ]
          },
          "colorway": [
           "#636efa",
           "#EF553B",
           "#00cc96",
           "#ab63fa",
           "#FFA15A",
           "#19d3f3",
           "#FF6692",
           "#B6E880",
           "#FF97FF",
           "#FECB52"
          ],
          "font": {
           "color": "#2a3f5f"
          },
          "geo": {
           "bgcolor": "white",
           "lakecolor": "white",
           "landcolor": "#E5ECF6",
           "showlakes": true,
           "showland": true,
           "subunitcolor": "white"
          },
          "hoverlabel": {
           "align": "left"
          },
          "hovermode": "closest",
          "mapbox": {
           "style": "light"
          },
          "paper_bgcolor": "white",
          "plot_bgcolor": "#E5ECF6",
          "polar": {
           "angularaxis": {
            "gridcolor": "white",
            "linecolor": "white",
            "ticks": ""
           },
           "bgcolor": "#E5ECF6",
           "radialaxis": {
            "gridcolor": "white",
            "linecolor": "white",
            "ticks": ""
           }
          },
          "scene": {
           "xaxis": {
            "backgroundcolor": "#E5ECF6",
            "gridcolor": "white",
            "gridwidth": 2,
            "linecolor": "white",
            "showbackground": true,
            "ticks": "",
            "zerolinecolor": "white"
           },
           "yaxis": {
            "backgroundcolor": "#E5ECF6",
            "gridcolor": "white",
            "gridwidth": 2,
            "linecolor": "white",
            "showbackground": true,
            "ticks": "",
            "zerolinecolor": "white"
           },
           "zaxis": {
            "backgroundcolor": "#E5ECF6",
            "gridcolor": "white",
            "gridwidth": 2,
            "linecolor": "white",
            "showbackground": true,
            "ticks": "",
            "zerolinecolor": "white"
           }
          },
          "shapedefaults": {
           "line": {
            "color": "#2a3f5f"
           }
          },
          "ternary": {
           "aaxis": {
            "gridcolor": "white",
            "linecolor": "white",
            "ticks": ""
           },
           "baxis": {
            "gridcolor": "white",
            "linecolor": "white",
            "ticks": ""
           },
           "bgcolor": "#E5ECF6",
           "caxis": {
            "gridcolor": "white",
            "linecolor": "white",
            "ticks": ""
           }
          },
          "title": {
           "x": 0.05
          },
          "xaxis": {
           "automargin": true,
           "gridcolor": "white",
           "linecolor": "white",
           "ticks": "",
           "title": {
            "standoff": 15
           },
           "zerolinecolor": "white",
           "zerolinewidth": 2
          },
          "yaxis": {
           "automargin": true,
           "gridcolor": "white",
           "linecolor": "white",
           "ticks": "",
           "title": {
            "standoff": 15
           },
           "zerolinecolor": "white",
           "zerolinewidth": 2
          }
         }
        },
        "title": {
         "text": "Display of Dataset"
        },
        "xaxis": {
         "anchor": "y",
         "domain": [
          0,
          1
         ],
         "title": {
          "text": "Date And Time"
         }
        },
        "yaxis": {
         "anchor": "x",
         "domain": [
          0,
          1
         ],
         "title": {
          "text": "count"
         }
        }
       }
      }
     },
     "metadata": {},
     "output_type": "display_data"
    }
   ],
   "source": [
    "indexGraph = px.histogram(fortnite, y=fortnite_df.index, x='Date And Time', title='Display of Dataset', histfunc='count', )\n",
    "indexGraph.show()"
   ]
  },
  {
   "cell_type": "markdown",
   "metadata": {},
   "source": [
    "This is a bssic overview of the dataset, the histogram displays the amount of entries accross the 5 days of data at each relvent time plot, you can see that the most amount of entries happened on the 14th of April at 1pm, whereas there are three entires that only contain one entry, at 1pm on the 11th of april, 3pm on the 11th of april and 10pm on the 15th of april\n",
    "\n",
    "\n",
    "Mental State | Game Position, Split into Two"
   ]
  },
  {
   "cell_type": "code",
   "execution_count": 7,
   "metadata": {},
   "outputs": [
    {
     "data": {
      "image/png": "[encoded data removed]",
      "text/plain": [
       "<Figure size 1099.61x500 with 2 Axes>"
      ]
     },
     "metadata": {},
     "output_type": "display_data"
    }
   ],
   "source": [
    "compareGraph = sns.catplot(x=\"Date And Time\", col=\"Mental State\", y=\"Placed\", hue=\"Mental State\", data=fortnite)\n",
    "compareGraph.set(ylim=(0, 100))\n",
    "compareGraph.set_xticklabels(rotation=90)\n",
    "compareGraph.set(yticks=np.arange(0, 101, 10))\n",
    "plt.gca().invert_yaxis()"
   ]
  },
  {
   "cell_type": "markdown",
   "metadata": {},
   "source": [
    "These graphs seperate the two 'Mental State' Columns and plot the games played throughout the timeframe the dataset was taken ( 5 days), it shows the position player came at the end of thier game, for context, this game is out of 100 players alltogether. and the y axis has been inverted, as for the sake of this data, the closer to 0 you are is better (note the closest to zero you can be is 1,)\n"
   ]
  },
  {
   "cell_type": "code",
   "execution_count": null,
   "metadata": {},
   "outputs": [
    {
     "data": {
      "image/png": "[encoded data removed]",
      "text/plain": [
       "<Figure size 599.611x500 with 1 Axes>"
      ]
     },
     "metadata": {},
     "output_type": "display_data"
    }
   ],
   "source": [
    "# mental state vs time of day\n",
    "\n",
    "fortnite['Time'] = pd.Categorical(fortnite['Time'], categories=[\n",
    "    '12:00 PM', '1:00 PM', '2:00 PM', '3:00 PM', '4:00 PM', '5:00 PM', '6:00 PM', '7:00 PM', '8:00 PM', '9:00 PM', '10:00 PM', '11:00 PM'], ordered=True)\n",
    "\n",
    "timeMental = sns.catplot(x=\"Time\", hue=\"Mental State\", kind=\"count\", data=fortnite, palette={'sober': 'orange', 'high': 'blue'})\n",
    "timeMental.set_xticklabels(rotation=90)\n",
    "plt.title('Mental State vs Time of Day')\n",
    "plt.show()\n"
   ]
  },
  {
   "cell_type": "markdown",
   "metadata": {},
   "source": [
    "this graph displays the times of day players who were involved in the data collection of this dataset were high/sober, there is a very obvious timeframe of where high and sober players entered and tookpart in the game throughtout the afternoon/evening.  You can also see where the high players dropped off and had to go to bed\n",
    "\n",
    "so we can get into the gritty part of pro gamer stats to find the best way to optimally play video games"
   ]
  },
  {
   "cell_type": "code",
   "execution_count": null,
   "metadata": {},
   "outputs": [
    {
     "data": {
      "application/vnd.plotly.v1+json": {
       "config": {
        "plotlyServerURL": "https://plot.ly"
       },
       "data": [
        {
         "alignmentgroup": "True",
         "bingroup": "y",
         "hovertemplate": "Mental State=sober<br>count=%{x}<br>Eliminations=%{y}<extra></extra>",
         "legendgroup": "sober",
         "marker": {
          "color": "orange",
          "line": {
           "color": "black",
           "width": 2
          },
          "pattern": {
           "shape": ""
          }
         },
         "name": "sober",
         "nbinsy": 10,
         "offsetgroup": "sober",
         "orientation": "h",
         "showlegend": true,
         "type": "histogram",
         "xaxis": "x",
         "y": [
          2,
          1,
          4,
          5,
          3,
          1,
          3,
          1,
          7,
          4,
          1,
          6,
          2,
          8,
          0,
          2,
          1,
          3,
          2,
          1,
          2,
          1,
          3,
          0,
          1,
          2,
          4,
          5,
          1,
          0,
          2,
          2,
          2,
          2,
          2,
          6,
          6,
          0,
          3,
          2,
          1,
          5
         ],
         "yaxis": "y"
        },
        {
         "alignmentgroup": "True",
         "bingroup": "y",
         "hovertemplate": "Mental State=high<br>count=%{x}<br>Eliminations=%{y}<extra></extra>",
         "legendgroup": "high",
         "marker": {
          "color": "blue",
          "line": {
           "color": "black",
           "width": 2
          },
          "pattern": {
           "shape": ""
          }
         },
         "name": "high",
         "nbinsy": 10,
         "offsetgroup": "high",
         "orientation": "h",
         "showlegend": true,
         "type": "histogram",
         "xaxis": "x",
         "y": [
          3,
          1,
          3,
          0,
          3,
          2,
          4,
          1,
          1,
          3,
          1,
          4,
          2,
          0,
          5,
          1,
          1,
          1,
          3,
          3,
          6,
          6,
          2,
          4,
          6,
          1,
          3,
          2,
          2,
          1,
          1,
          1,
          1,
          2,
          0,
          2,
          4,
          3
         ],
         "yaxis": "y"
        }
       ],
       "layout": {
        "barmode": "group",
        "legend": {
         "title": {
          "text": "Mental State"
         },
         "tracegroupgap": 0
        },
        "template": {
         "data": {
          "bar": [
           {
            "error_x": {
             "color": "#2a3f5f"
            },
            "error_y": {
             "color": "#2a3f5f"
            },
            "marker": {
             "line": {
              "color": "#E5ECF6",
              "width": 0.5
             },
             "pattern": {
              "fillmode": "overlay",
              "size": 10,
              "solidity": 0.2
             }
            },
            "type": "bar"
           }
          ],
          "barpolar": [
           {
            "marker": {
             "line": {
              "color": "#E5ECF6",
              "width": 0.5
             },
             "pattern": {
              "fillmode": "overlay",
              "size": 10,
              "solidity": 0.2
             }
            },
            "type": "barpolar"
           }
          ],
          "carpet": [
           {
            "aaxis": {
             "endlinecolor": "#2a3f5f",
             "gridcolor": "white",
             "linecolor": "white",
             "minorgridcolor": "white",
             "startlinecolor": "#2a3f5f"
            },
            "baxis": {
             "endlinecolor": "#2a3f5f",
             "gridcolor": "white",
             "linecolor": "white",
             "minorgridcolor": "white",
             "startlinecolor": "#2a3f5f"
            },
            "type": "carpet"
           }
          ],
          "choropleth": [
           {
            "colorbar": {
             "outlinewidth": 0,
             "ticks": ""
            },
            "type": "choropleth"
           }
          ],
          "contour": [
           {
            "colorbar": {
             "outlinewidth": 0,
             "ticks": ""
            },
            "colorscale": [
             [
              0,
              "#0d0887"
             ],
             [
              0.1111111111111111,
              "#46039f"
             ],
             [
              0.2222222222222222,
              "#7201a8"
             ],
             [
              0.3333333333333333,
              "#9c179e"
             ],
             [
              0.4444444444444444,
              "#bd3786"
             ],
             [
              0.5555555555555556,
              "#d8576b"
             ],
             [
              0.6666666666666666,
              "#ed7953"
             ],
             [
              0.7777777777777778,
              "#fb9f3a"
             ],
             [
              0.8888888888888888,
              "#fdca26"
             ],
             [
              1,
              "#f0f921"
             ]
            ],
            "type": "contour"
           }
          ],
          "contourcarpet": [
           {
            "colorbar": {
             "outlinewidth": 0,
             "ticks": ""
            },
            "type": "contourcarpet"
           }
          ],
          "heatmap": [
           {
            "colorbar": {
             "outlinewidth": 0,
             "ticks": ""
            },
            "colorscale": [
             [
              0,
              "#0d0887"
             ],
             [
              0.1111111111111111,
              "#46039f"
             ],
             [
              0.2222222222222222,
              "#7201a8"
             ],
             [
              0.3333333333333333,
              "#9c179e"
             ],
             [
              0.4444444444444444,
              "#bd3786"
             ],
             [
              0.5555555555555556,
              "#d8576b"
             ],
             [
              0.6666666666666666,
              "#ed7953"
             ],
             [
              0.7777777777777778,
              "#fb9f3a"
             ],
             [
              0.8888888888888888,
              "#fdca26"
             ],
             [
              1,
              "#f0f921"
             ]
            ],
            "type": "heatmap"
           }
          ],
          "heatmapgl": [
           {
            "colorbar": {
             "outlinewidth": 0,
             "ticks": ""
            },
            "colorscale": [
             [
              0,
              "#0d0887"
             ],
             [
              0.1111111111111111,
              "#46039f"
             ],
             [
              0.2222222222222222,
              "#7201a8"
             ],
             [
              0.3333333333333333,
              "#9c179e"
             ],
             [
              0.4444444444444444,
              "#bd3786"
             ],
             [
              0.5555555555555556,
              "#d8576b"
             ],
             [
              0.6666666666666666,
              "#ed7953"
             ],
             [
              0.7777777777777778,
              "#fb9f3a"
             ],
             [
              0.8888888888888888,
              "#fdca26"
             ],
             [
              1,
              "#f0f921"
             ]
            ],
            "type": "heatmapgl"
           }
          ],
          "histogram": [
           {
            "marker": {
             "pattern": {
              "fillmode": "overlay",
              "size": 10,
              "solidity": 0.2
             }
            },
            "type": "histogram"
           }
          ],
          "histogram2d": [
           {
            "colorbar": {
             "outlinewidth": 0,
             "ticks": ""
            },
            "colorscale": [
             [
              0,
              "#0d0887"
             ],
             [
              0.1111111111111111,
              "#46039f"
             ],
             [
              0.2222222222222222,
              "#7201a8"
             ],
             [
              0.3333333333333333,
              "#9c179e"
             ],
             [
              0.4444444444444444,
              "#bd3786"
             ],
             [
              0.5555555555555556,
              "#d8576b"
             ],
             [
              0.6666666666666666,
              "#ed7953"
             ],
             [
              0.7777777777777778,
              "#fb9f3a"
             ],
             [
              0.8888888888888888,
              "#fdca26"
             ],
             [
              1,
              "#f0f921"
             ]
            ],
            "type": "histogram2d"
           }
          ],
          "histogram2dcontour": [
           {
            "colorbar": {
             "outlinewidth": 0,
             "ticks": ""
            },
            "colorscale": [
             [
              0,
              "#0d0887"
             ],
             [
              0.1111111111111111,
              "#46039f"
             ],
             [
              0.2222222222222222,
              "#7201a8"
             ],
             [
              0.3333333333333333,
              "#9c179e"
             ],
             [
              0.4444444444444444,
              "#bd3786"
             ],
             [
              0.5555555555555556,
              "#d8576b"
             ],
             [
              0.6666666666666666,
              "#ed7953"
             ],
             [
              0.7777777777777778,
              "#fb9f3a"
             ],
             [
              0.8888888888888888,
              "#fdca26"
             ],
             [
              1,
              "#f0f921"
             ]
            ],
            "type": "histogram2dcontour"
           }
          ],
          "mesh3d": [
           {
            "colorbar": {
             "outlinewidth": 0,
             "ticks": ""
            },
            "type": "mesh3d"
           }
          ],
          "parcoords": [
           {
            "line": {
             "colorbar": {
              "outlinewidth": 0,
              "ticks": ""
             }
            },
            "type": "parcoords"
           }
          ],
          "pie": [
           {
            "automargin": true,
            "type": "pie"
           }
          ],
          "scatter": [
           {
            "fillpattern": {
             "fillmode": "overlay",
             "size": 10,
             "solidity": 0.2
            },
            "type": "scatter"
           }
          ],
          "scatter3d": [
           {
            "line": {
             "colorbar": {
              "outlinewidth": 0,
              "ticks": ""
             }
            },
            "marker": {
             "colorbar": {
              "outlinewidth": 0,
              "ticks": ""
             }
            },
            "type": "scatter3d"
           }
          ],
          "scattercarpet": [
           {
            "marker": {
             "colorbar": {
              "outlinewidth": 0,
              "ticks": ""
             }
            },
            "type": "scattercarpet"
           }
          ],
          "scattergeo": [
           {
            "marker": {
             "colorbar": {
              "outlinewidth": 0,
              "ticks": ""
             }
            },
            "type": "scattergeo"
           }
          ],
          "scattergl": [
           {
            "marker": {
             "colorbar": {
              "outlinewidth": 0,
              "ticks": ""
             }
            },
            "type": "scattergl"
           }
          ],
          "scattermapbox": [
           {
            "marker": {
             "colorbar": {
              "outlinewidth": 0,
              "ticks": ""
             }
            },
            "type": "scattermapbox"
           }
          ],
          "scatterpolar": [
           {
            "marker": {
             "colorbar": {
              "outlinewidth": 0,
              "ticks": ""
             }
            },
            "type": "scatterpolar"
           }
          ],
          "scatterpolargl": [
           {
            "marker": {
             "colorbar": {
              "outlinewidth": 0,
              "ticks": ""
             }
            },
            "type": "scatterpolargl"
           }
          ],
          "scatterternary": [
           {
            "marker": {
             "colorbar": {
              "outlinewidth": 0,
              "ticks": ""
             }
            },
            "type": "scatterternary"
           }
          ],
          "surface": [
           {
            "colorbar": {
             "outlinewidth": 0,
             "ticks": ""
            },
            "colorscale": [
             [
              0,
              "#0d0887"
             ],
             [
              0.1111111111111111,
              "#46039f"
             ],
             [
              0.2222222222222222,
              "#7201a8"
             ],
             [
              0.3333333333333333,
              "#9c179e"
             ],
             [
              0.4444444444444444,
              "#bd3786"
             ],
             [
              0.5555555555555556,
              "#d8576b"
             ],
             [
              0.6666666666666666,
              "#ed7953"
             ],
             [
              0.7777777777777778,
              "#fb9f3a"
             ],
             [
              0.8888888888888888,
              "#fdca26"
             ],
             [
              1,
              "#f0f921"
             ]
            ],
            "type": "surface"
           }
          ],
          "table": [
           {
            "cells": {
             "fill": {
              "color": "#EBF0F8"
             },
             "line": {
              "color": "white"
             }
            },
            "header": {
             "fill": {
              "color": "#C8D4E3"
             },
             "line": {
              "color": "white"
             }
            },
            "type": "table"
           }
          ]
         },
         "layout": {
          "annotationdefaults": {
           "arrowcolor": "#2a3f5f",
           "arrowhead": 0,
           "arrowwidth": 1
          },
          "autotypenumbers": "strict",
          "coloraxis": {
           "colorbar": {
            "outlinewidth": 0,
            "ticks": ""
           }
          },
          "colorscale": {
           "diverging": [
            [
             0,
             "#8e0152"
            ],
            [
             0.1,
             "#c51b7d"
            ],
            [
             0.2,
             "#de77ae"
            ],
            [
             0.3,
             "#f1b6da"
            ],
            [
             0.4,
             "#fde0ef"
            ],
            [
             0.5,
             "#f7f7f7"
            ],
            [
             0.6,
             "#e6f5d0"
            ],
            [
             0.7,
             "#b8e186"
            ],
            [
             0.8,
             "#7fbc41"
            ],
            [
             0.9,
             "#4d9221"
            ],
            [
             1,
             "#276419"
            ]
           ],
           "sequential": [
            [
             0,
             "#0d0887"
            ],
            [
             0.1111111111111111,
             "#46039f"
            ],
            [
             0.2222222222222222,
             "#7201a8"
            ],
            [
             0.3333333333333333,
             "#9c179e"
            ],
            [
             0.4444444444444444,
             "#bd3786"
            ],
            [
             0.5555555555555556,
             "#d8576b"
            ],
            [
             0.6666666666666666,
             "#ed7953"
            ],
            [
             0.7777777777777778,
             "#fb9f3a"
            ],
            [
             0.8888888888888888,
             "#fdca26"
            ],
            [
             1,
             "#f0f921"
            ]
           ],
           "sequentialminus": [
            [
             0,
             "#0d0887"
            ],
            [
             0.1111111111111111,
             "#46039f"
            ],
            [
             0.2222222222222222,
             "#7201a8"
            ],
            [
             0.3333333333333333,
             "#9c179e"
            ],
            [
             0.4444444444444444,
             "#bd3786"
            ],
            [
             0.5555555555555556,
             "#d8576b"
            ],
            [
             0.6666666666666666,
             "#ed7953"
            ],
            [
             0.7777777777777778,
             "#fb9f3a"
            ],
            [
             0.8888888888888888,
             "#fdca26"
            ],
            [
             1,
             "#f0f921"
            ]
           ]
          },
          "colorway": [
           "#636efa",
           "#EF553B",
           "#00cc96",
           "#ab63fa",
           "#FFA15A",
           "#19d3f3",
           "#FF6692",
           "#B6E880",
           "#FF97FF",
           "#FECB52"
          ],
          "font": {
           "color": "#2a3f5f"
          },
          "geo": {
           "bgcolor": "white",
           "lakecolor": "white",
           "landcolor": "#E5ECF6",
           "showlakes": true,
           "showland": true,
           "subunitcolor": "white"
          },
          "hoverlabel": {
           "align": "left"
          },
          "hovermode": "closest",
          "mapbox": {
           "style": "light"
          },
          "paper_bgcolor": "white",
          "plot_bgcolor": "#E5ECF6",
          "polar": {
           "angularaxis": {
            "gridcolor": "white",
            "linecolor": "white",
            "ticks": ""
           },
           "bgcolor": "#E5ECF6",
           "radialaxis": {
            "gridcolor": "white",
            "linecolor": "white",
            "ticks": ""
           }
          },
          "scene": {
           "xaxis": {
            "backgroundcolor": "#E5ECF6",
            "gridcolor": "white",
            "gridwidth": 2,
            "linecolor": "white",
            "showbackground": true,
            "ticks": "",
            "zerolinecolor": "white"
           },
           "yaxis": {
            "backgroundcolor": "#E5ECF6",
            "gridcolor": "white",
            "gridwidth": 2,
            "linecolor": "white",
            "showbackground": true,
            "ticks": "",
            "zerolinecolor": "white"
           },
           "zaxis": {
            "backgroundcolor": "#E5ECF6",
            "gridcolor": "white",
            "gridwidth": 2,
            "linecolor": "white",
            "showbackground": true,
            "ticks": "",
            "zerolinecolor": "white"
           }
          },
          "shapedefaults": {
           "line": {
            "color": "#2a3f5f"
           }
          },
          "ternary": {
           "aaxis": {
            "gridcolor": "white",
            "linecolor": "white",
            "ticks": ""
           },
           "baxis": {
            "gridcolor": "white",
            "linecolor": "white",
            "ticks": ""
           },
           "bgcolor": "#E5ECF6",
           "caxis": {
            "gridcolor": "white",
            "linecolor": "white",
            "ticks": ""
           }
          },
          "title": {
           "x": 0.05
          },
          "xaxis": {
           "automargin": true,
           "gridcolor": "white",
           "linecolor": "white",
           "ticks": "",
           "title": {
            "standoff": 15
           },
           "zerolinecolor": "white",
           "zerolinewidth": 2
          },
          "yaxis": {
           "automargin": true,
           "gridcolor": "white",
           "linecolor": "white",
           "ticks": "",
           "title": {
            "standoff": 15
           },
           "zerolinecolor": "white",
           "zerolinewidth": 2
          }
         }
        },
        "title": {
         "text": "Mental State vs Eliminations"
        },
        "xaxis": {
         "anchor": "y",
         "domain": [
          0,
          1
         ],
         "title": {
          "text": "count"
         }
        },
        "yaxis": {
         "anchor": "x",
         "domain": [
          0,
          1
         ],
         "title": {
          "text": "Eliminations"
         }
        }
       }
      }
     },
     "metadata": {},
     "output_type": "display_data"
    }
   ],
   "source": [
    "eliminationsGraph = px.histogram(fortnite, y='Eliminations', color='Mental State', title='Mental State vs Eliminations', barmode='group', nbins=10, color_discrete_map={'sober': 'orange', 'high': 'blue'})\n",
    "eliminationsGraph.update_traces(marker_line_width=2, marker_line_color='black')\n",
    "eliminationsGraph.show()\n"
   ]
  },
  {
   "cell_type": "code",
   "execution_count": null,
   "metadata": {},
   "outputs": [
    {
     "data": {
      "application/vnd.plotly.v1+json": {
       "config": {
        "plotlyServerURL": "https://plot.ly"
       },
       "data": [
        {
         "alignmentgroup": "True",
         "bingroup": "y",
         "hovertemplate": "Mental State=high<br>count=%{x}<br>Accuracy=%{y}<extra></extra>",
         "legendgroup": "high",
         "marker": {
          "color": "blue",
          "line": {
           "color": "black",
           "width": 2
          },
          "pattern": {
           "shape": ""
          }
         },
         "name": "high",
         "nbinsy": 20,
         "offsetgroup": "high",
         "orientation": "h",
         "showlegend": true,
         "type": "histogram",
         "xaxis": "x",
         "y": [
          "10%",
          "10%",
          "11%",
          "13%",
          "16%",
          "16%",
          "16%",
          "17%",
          "17%",
          "17%",
          "18%",
          "18%",
          "20%",
          "21%",
          "22%",
          "23%",
          "23%",
          "24%",
          "24%",
          "25%",
          "25%",
          "25%",
          "25%",
          "26%",
          "26%",
          "26%",
          "27%",
          "27%",
          "28%",
          "30%",
          "34%",
          "35%",
          "36%",
          "39%",
          "39%",
          "58%",
          "7%",
          "8%"
         ],
         "yaxis": "y"
        },
        {
         "alignmentgroup": "True",
         "bingroup": "y",
         "hovertemplate": "Mental State=sober<br>count=%{x}<br>Accuracy=%{y}<extra></extra>",
         "legendgroup": "sober",
         "marker": {
          "color": "orange",
          "line": {
           "color": "black",
           "width": 2
          },
          "pattern": {
           "shape": ""
          }
         },
         "name": "sober",
         "nbinsy": 20,
         "offsetgroup": "sober",
         "orientation": "h",
         "showlegend": true,
         "type": "histogram",
         "xaxis": "x",
         "y": [
          "10%",
          "11%",
          "12%",
          "13%",
          "16%",
          "17%",
          "17%",
          "17%",
          "18%",
          "20%",
          "20%",
          "21%",
          "21%",
          "22%",
          "22%",
          "23%",
          "23%",
          "24%",
          "25%",
          "25%",
          "27%",
          "27%",
          "28%",
          "29%",
          "30%",
          "34%",
          "34%",
          "35%",
          "36%",
          "38%",
          "38%",
          "38%",
          "4%",
          "4%",
          "42%",
          "43%",
          "44%",
          "45%",
          "46%",
          "53%",
          "6%",
          "90%"
         ],
         "yaxis": "y"
        }
       ],
       "layout": {
        "barmode": "relative",
        "legend": {
         "title": {
          "text": "Mental State"
         },
         "tracegroupgap": 0
        },
        "template": {
         "data": {
          "bar": [
           {
            "error_x": {
             "color": "#2a3f5f"
            },
            "error_y": {
             "color": "#2a3f5f"
            },
            "marker": {
             "line": {
              "color": "#E5ECF6",
              "width": 0.5
             },
             "pattern": {
              "fillmode": "overlay",
              "size": 10,
              "solidity": 0.2
             }
            },
            "type": "bar"
           }
          ],
          "barpolar": [
           {
            "marker": {
             "line": {
              "color": "#E5ECF6",
              "width": 0.5
             },
             "pattern": {
              "fillmode": "overlay",
              "size": 10,
              "solidity": 0.2
             }
            },
            "type": "barpolar"
           }
          ],
          "carpet": [
           {
            "aaxis": {
             "endlinecolor": "#2a3f5f",
             "gridcolor": "white",
             "linecolor": "white",
             "minorgridcolor": "white",
             "startlinecolor": "#2a3f5f"
            },
            "baxis": {
             "endlinecolor": "#2a3f5f",
             "gridcolor": "white",
             "linecolor": "white",
             "minorgridcolor": "white",
             "startlinecolor": "#2a3f5f"
            },
            "type": "carpet"
           }
          ],
          "choropleth": [
           {
            "colorbar": {
             "outlinewidth": 0,
             "ticks": ""
            },
            "type": "choropleth"
           }
          ],
          "contour": [
           {
            "colorbar": {
             "outlinewidth": 0,
             "ticks": ""
            },
            "colorscale": [
             [
              0,
              "#0d0887"
             ],
             [
              0.1111111111111111,
              "#46039f"
             ],
             [
              0.2222222222222222,
              "#7201a8"
             ],
             [
              0.3333333333333333,
              "#9c179e"
             ],
             [
              0.4444444444444444,
              "#bd3786"
             ],
             [
              0.5555555555555556,
              "#d8576b"
             ],
             [
              0.6666666666666666,
              "#ed7953"
             ],
             [
              0.7777777777777778,
              "#fb9f3a"
             ],
             [
              0.8888888888888888,
              "#fdca26"
             ],
             [
              1,
              "#f0f921"
             ]
            ],
            "type": "contour"
           }
          ],
          "contourcarpet": [
           {
            "colorbar": {
             "outlinewidth": 0,
             "ticks": ""
            },
            "type": "contourcarpet"
           }
          ],
          "heatmap": [
           {
            "colorbar": {
             "outlinewidth": 0,
             "ticks": ""
            },
            "colorscale": [
             [
              0,
              "#0d0887"
             ],
             [
              0.1111111111111111,
              "#46039f"
             ],
             [
              0.2222222222222222,
              "#7201a8"
             ],
             [
              0.3333333333333333,
              "#9c179e"
             ],
             [
              0.4444444444444444,
              "#bd3786"
             ],
             [
              0.5555555555555556,
              "#d8576b"
             ],
             [
              0.6666666666666666,
              "#ed7953"
             ],
             [
              0.7777777777777778,
              "#fb9f3a"
             ],
             [
              0.8888888888888888,
              "#fdca26"
             ],
             [
              1,
              "#f0f921"
             ]
            ],
            "type": "heatmap"
           }
          ],
          "heatmapgl": [
           {
            "colorbar": {
             "outlinewidth": 0,
             "ticks": ""
            },
            "colorscale": [
             [
              0,
              "#0d0887"
             ],
             [
              0.1111111111111111,
              "#46039f"
             ],
             [
              0.2222222222222222,
              "#7201a8"
             ],
             [
              0.3333333333333333,
              "#9c179e"
             ],
             [
              0.4444444444444444,
              "#bd3786"
             ],
             [
              0.5555555555555556,
              "#d8576b"
             ],
             [
              0.6666666666666666,
              "#ed7953"
             ],
             [
              0.7777777777777778,
              "#fb9f3a"
             ],
             [
              0.8888888888888888,
              "#fdca26"
             ],
             [
              1,
              "#f0f921"
             ]
            ],
            "type": "heatmapgl"
           }
          ],
          "histogram": [
           {
            "marker": {
             "pattern": {
              "fillmode": "overlay",
              "size": 10,
              "solidity": 0.2
             }
            },
            "type": "histogram"
           }
          ],
          "histogram2d": [
           {
            "colorbar": {
             "outlinewidth": 0,
             "ticks": ""
            },
            "colorscale": [
             [
              0,
              "#0d0887"
             ],
             [
              0.1111111111111111,
              "#46039f"
             ],
             [
              0.2222222222222222,
              "#7201a8"
             ],
             [
              0.3333333333333333,
              "#9c179e"
             ],
             [
              0.4444444444444444,
              "#bd3786"
             ],
             [
              0.5555555555555556,
              "#d8576b"
             ],
             [
              0.6666666666666666,
              "#ed7953"
             ],
             [
              0.7777777777777778,
              "#fb9f3a"
             ],
             [
              0.8888888888888888,
              "#fdca26"
             ],
             [
              1,
              "#f0f921"
             ]
            ],
            "type": "histogram2d"
           }
          ],
          "histogram2dcontour": [
           {
            "colorbar": {
             "outlinewidth": 0,
             "ticks": ""
            },
            "colorscale": [
             [
              0,
              "#0d0887"
             ],
             [
              0.1111111111111111,
              "#46039f"
             ],
             [
              0.2222222222222222,
              "#7201a8"
             ],
             [
              0.3333333333333333,
              "#9c179e"
             ],
             [
              0.4444444444444444,
              "#bd3786"
             ],
             [
              0.5555555555555556,
              "#d8576b"
             ],
             [
              0.6666666666666666,
              "#ed7953"
             ],
             [
              0.7777777777777778,
              "#fb9f3a"
             ],
             [
              0.8888888888888888,
              "#fdca26"
             ],
             [
              1,
              "#f0f921"
             ]
            ],
            "type": "histogram2dcontour"
           }
          ],
          "mesh3d": [
           {
            "colorbar": {
             "outlinewidth": 0,
             "ticks": ""
            },
            "type": "mesh3d"
           }
          ],
          "parcoords": [
           {
            "line": {
             "colorbar": {
              "outlinewidth": 0,
              "ticks": ""
             }
            },
            "type": "parcoords"
           }
          ],
          "pie": [
           {
            "automargin": true,
            "type": "pie"
           }
          ],
          "scatter": [
           {
            "fillpattern": {
             "fillmode": "overlay",
             "size": 10,
             "solidity": 0.2
            },
            "type": "scatter"
           }
          ],
          "scatter3d": [
           {
            "line": {
             "colorbar": {
              "outlinewidth": 0,
              "ticks": ""
             }
            },
            "marker": {
             "colorbar": {
              "outlinewidth": 0,
              "ticks": ""
             }
            },
            "type": "scatter3d"
           }
          ],
          "scattercarpet": [
           {
            "marker": {
             "colorbar": {
              "outlinewidth": 0,
              "ticks": ""
             }
            },
            "type": "scattercarpet"
           }
          ],
          "scattergeo": [
           {
            "marker": {
             "colorbar": {
              "outlinewidth": 0,
              "ticks": ""
             }
            },
            "type": "scattergeo"
           }
          ],
          "scattergl": [
           {
            "marker": {
             "colorbar": {
              "outlinewidth": 0,
              "ticks": ""
             }
            },
            "type": "scattergl"
           }
          ],
          "scattermapbox": [
           {
            "marker": {
             "colorbar": {
              "outlinewidth": 0,
              "ticks": ""
             }
            },
            "type": "scattermapbox"
           }
          ],
          "scatterpolar": [
           {
            "marker": {
             "colorbar": {
              "outlinewidth": 0,
              "ticks": ""
             }
            },
            "type": "scatterpolar"
           }
          ],
          "scatterpolargl": [
           {
            "marker": {
             "colorbar": {
              "outlinewidth": 0,
              "ticks": ""
             }
            },
            "type": "scatterpolargl"
           }
          ],
          "scatterternary": [
           {
            "marker": {
             "colorbar": {
              "outlinewidth": 0,
              "ticks": ""
             }
            },
            "type": "scatterternary"
           }
          ],
          "surface": [
           {
            "colorbar": {
             "outlinewidth": 0,
             "ticks": ""
            },
            "colorscale": [
             [
              0,
              "#0d0887"
             ],
             [
              0.1111111111111111,
              "#46039f"
             ],
             [
              0.2222222222222222,
              "#7201a8"
             ],
             [
              0.3333333333333333,
              "#9c179e"
             ],
             [
              0.4444444444444444,
              "#bd3786"
             ],
             [
              0.5555555555555556,
              "#d8576b"
             ],
             [
              0.6666666666666666,
              "#ed7953"
             ],
             [
              0.7777777777777778,
              "#fb9f3a"
             ],
             [
              0.8888888888888888,
              "#fdca26"
             ],
             [
              1,
              "#f0f921"
             ]
            ],
            "type": "surface"
           }
          ],
          "table": [
           {
            "cells": {
             "fill": {
              "color": "#EBF0F8"
             },
             "line": {
              "color": "white"
             }
            },
            "header": {
             "fill": {
              "color": "#C8D4E3"
             },
             "line": {
              "color": "white"
             }
            },
            "type": "table"
           }
          ]
         },
         "layout": {
          "annotationdefaults": {
           "arrowcolor": "#2a3f5f",
           "arrowhead": 0,
           "arrowwidth": 1
          },
          "autotypenumbers": "strict",
          "coloraxis": {
           "colorbar": {
            "outlinewidth": 0,
            "ticks": ""
           }
          },
          "colorscale": {
           "diverging": [
            [
             0,
             "#8e0152"
            ],
            [
             0.1,
             "#c51b7d"
            ],
            [
             0.2,
             "#de77ae"
            ],
            [
             0.3,
             "#f1b6da"
            ],
            [
             0.4,
             "#fde0ef"
            ],
            [
             0.5,
             "#f7f7f7"
            ],
            [
             0.6,
             "#e6f5d0"
            ],
            [
             0.7,
             "#b8e186"
            ],
            [
             0.8,
             "#7fbc41"
            ],
            [
             0.9,
             "#4d9221"
            ],
            [
             1,
             "#276419"
            ]
           ],
           "sequential": [
            [
             0,
             "#0d0887"
            ],
            [
             0.1111111111111111,
             "#46039f"
            ],
            [
             0.2222222222222222,
             "#7201a8"
            ],
            [
             0.3333333333333333,
             "#9c179e"
            ],
            [
             0.4444444444444444,
             "#bd3786"
            ],
            [
             0.5555555555555556,
             "#d8576b"
            ],
            [
             0.6666666666666666,
             "#ed7953"
            ],
            [
             0.7777777777777778,
             "#fb9f3a"
            ],
            [
             0.8888888888888888,
             "#fdca26"
            ],
            [
             1,
             "#f0f921"
            ]
           ],
           "sequentialminus": [
            [
             0,
             "#0d0887"
            ],
            [
             0.1111111111111111,
             "#46039f"
            ],
            [
             0.2222222222222222,
             "#7201a8"
            ],
            [
             0.3333333333333333,
             "#9c179e"
            ],
            [
             0.4444444444444444,
             "#bd3786"
            ],
            [
             0.5555555555555556,
             "#d8576b"
            ],
            [
             0.6666666666666666,
             "#ed7953"
            ],
            [
             0.7777777777777778,
             "#fb9f3a"
            ],
            [
             0.8888888888888888,
             "#fdca26"
            ],
            [
             1,
             "#f0f921"
            ]
           ]
          },
          "colorway": [
           "#636efa",
           "#EF553B",
           "#00cc96",
           "#ab63fa",
           "#FFA15A",
           "#19d3f3",
           "#FF6692",
           "#B6E880",
           "#FF97FF",
           "#FECB52"
          ],
          "font": {
           "color": "#2a3f5f"
          },
          "geo": {
           "bgcolor": "white",
           "lakecolor": "white",
           "landcolor": "#E5ECF6",
           "showlakes": true,
           "showland": true,
           "subunitcolor": "white"
          },
          "hoverlabel": {
           "align": "left"
          },
          "hovermode": "closest",
          "mapbox": {
           "style": "light"
          },
          "paper_bgcolor": "white",
          "plot_bgcolor": "#E5ECF6",
          "polar": {
           "angularaxis": {
            "gridcolor": "white",
            "linecolor": "white",
            "ticks": ""
           },
           "bgcolor": "#E5ECF6",
           "radialaxis": {
            "gridcolor": "white",
            "linecolor": "white",
            "ticks": ""
           }
          },
          "scene": {
           "xaxis": {
            "backgroundcolor": "#E5ECF6",
            "gridcolor": "white",
            "gridwidth": 2,
            "linecolor": "white",
            "showbackground": true,
            "ticks": "",
            "zerolinecolor": "white"
           },
           "yaxis": {
            "backgroundcolor": "#E5ECF6",
            "gridcolor": "white",
            "gridwidth": 2,
            "linecolor": "white",
            "showbackground": true,
            "ticks": "",
            "zerolinecolor": "white"
           },
           "zaxis": {
            "backgroundcolor": "#E5ECF6",
            "gridcolor": "white",
            "gridwidth": 2,
            "linecolor": "white",
            "showbackground": true,
            "ticks": "",
            "zerolinecolor": "white"
           }
          },
          "shapedefaults": {
           "line": {
            "color": "#2a3f5f"
           }
          },
          "ternary": {
           "aaxis": {
            "gridcolor": "white",
            "linecolor": "white",
            "ticks": ""
           },
           "baxis": {
            "gridcolor": "white",
            "linecolor": "white",
            "ticks": ""
           },
           "bgcolor": "#E5ECF6",
           "caxis": {
            "gridcolor": "white",
            "linecolor": "white",
            "ticks": ""
           }
          },
          "title": {
           "x": 0.05
          },
          "xaxis": {
           "automargin": true,
           "gridcolor": "white",
           "linecolor": "white",
           "ticks": "",
           "title": {
            "standoff": 15
           },
           "zerolinecolor": "white",
           "zerolinewidth": 2
          },
          "yaxis": {
           "automargin": true,
           "gridcolor": "white",
           "linecolor": "white",
           "ticks": "",
           "title": {
            "standoff": 15
           },
           "zerolinecolor": "white",
           "zerolinewidth": 2
          }
         }
        },
        "title": {
         "text": "Mental State vs Accuracy"
        },
        "xaxis": {
         "anchor": "y",
         "domain": [
          0,
          1
         ],
         "title": {
          "text": "count"
         }
        },
        "yaxis": {
         "anchor": "x",
         "domain": [
          0,
          1
         ],
         "title": {
          "text": "Accuracy (%)"
         }
        }
       }
      }
     },
     "metadata": {},
     "output_type": "display_data"
    }
   ],
   "source": [
    "fortnite.sort_values(by='Accuracy', inplace=True)\n",
    "\n",
    "accuracyGraph = px.histogram(fortnite, y='Accuracy', color='Mental State', title='Mental State vs Accuracy', nbins=20, color_discrete_map={'sober': 'orange', 'high': 'blue'})\n",
    "accuracyGraph.update_traces(marker_line_width=2, marker_line_color='black')\n",
    "accuracyGraph.update_layout(yaxis_title='Accuracy (%)')\n",
    "accuracyGraph.show()"
   ]
  },
  {
   "cell_type": "code",
   "execution_count": null,
   "metadata": {},
   "outputs": [
    {
     "data": {
      "application/vnd.plotly.v1+json": {
       "config": {
        "plotlyServerURL": "https://plot.ly"
       },
       "data": [
        {
         "alignmentgroup": "True",
         "hovertemplate": "Mental State=sober<br>Accuracy %=%{x}<br>Head Shots=%{y}<extra></extra>",
         "legendgroup": "sober",
         "marker": {
          "color": "orange",
          "line": {
           "color": "black",
           "width": 2
          },
          "pattern": {
           "shape": ""
          }
         },
         "name": "sober",
         "offsetgroup": "sober",
         "orientation": "v",
         "showlegend": true,
         "textposition": "auto",
         "type": "bar",
         "width": 1.5,
         "x": [
          4,
          4,
          6,
          10,
          11,
          12,
          13,
          16,
          17,
          17,
          17,
          18,
          20,
          20,
          21,
          21,
          22,
          22,
          23,
          23,
          24,
          25,
          25,
          27,
          27,
          28,
          29,
          30,
          34,
          34,
          35,
          36,
          38,
          38,
          38,
          42,
          43,
          44,
          45,
          46,
          53,
          90
         ],
         "xaxis": "x",
         "y": [
          0,
          1,
          0,
          2,
          3,
          4,
          7,
          4,
          2,
          7,
          11,
          3,
          0,
          3,
          1,
          20,
          10,
          11,
          2,
          2,
          3,
          9,
          3,
          7,
          1,
          10,
          2,
          1,
          8,
          5,
          1,
          13,
          33,
          0,
          0,
          0,
          12,
          13,
          0,
          4,
          3,
          1
         ],
         "yaxis": "y"
        },
        {
         "alignmentgroup": "True",
         "hovertemplate": "Mental State=high<br>Accuracy %=%{x}<br>Head Shots=%{y}<extra></extra>",
         "legendgroup": "high",
         "marker": {
          "color": "blue",
          "line": {
           "color": "black",
           "width": 2
          },
          "pattern": {
           "shape": ""
          }
         },
         "name": "high",
         "offsetgroup": "high",
         "orientation": "v",
         "showlegend": true,
         "textposition": "auto",
         "type": "bar",
         "width": 1.5,
         "x": [
          7,
          8,
          10,
          10,
          11,
          13,
          16,
          16,
          16,
          17,
          17,
          17,
          18,
          18,
          20,
          21,
          22,
          23,
          23,
          24,
          24,
          25,
          25,
          25,
          25,
          26,
          26,
          26,
          27,
          27,
          28,
          30,
          34,
          35,
          36,
          39,
          39,
          58
         ],
         "xaxis": "x",
         "y": [
          2,
          0,
          4,
          1,
          0,
          1,
          3,
          2,
          0,
          3,
          0,
          7,
          1,
          3,
          4,
          0,
          5,
          2,
          3,
          1,
          4,
          0,
          9,
          6,
          4,
          0,
          5,
          7,
          1,
          5,
          5,
          1,
          5,
          1,
          22,
          0,
          14,
          18
         ],
         "yaxis": "y"
        }
       ],
       "layout": {
        "barmode": "group",
        "height": 600,
        "legend": {
         "title": {
          "text": "Mental State"
         },
         "tracegroupgap": 0
        },
        "template": {
         "data": {
          "bar": [
           {
            "error_x": {
             "color": "#2a3f5f"
            },
            "error_y": {
             "color": "#2a3f5f"
            },
            "marker": {
             "line": {
              "color": "#E5ECF6",
              "width": 0.5
             },
             "pattern": {
              "fillmode": "overlay",
              "size": 10,
              "solidity": 0.2
             }
            },
            "type": "bar"
           }
          ],
          "barpolar": [
           {
            "marker": {
             "line": {
              "color": "#E5ECF6",
              "width": 0.5
             },
             "pattern": {
              "fillmode": "overlay",
              "size": 10,
              "solidity": 0.2
             }
            },
            "type": "barpolar"
           }
          ],
          "carpet": [
           {
            "aaxis": {
             "endlinecolor": "#2a3f5f",
             "gridcolor": "white",
             "linecolor": "white",
             "minorgridcolor": "white",
             "startlinecolor": "#2a3f5f"
            },
            "baxis": {
             "endlinecolor": "#2a3f5f",
             "gridcolor": "white",
             "linecolor": "white",
             "minorgridcolor": "white",
             "startlinecolor": "#2a3f5f"
            },
            "type": "carpet"
           }
          ],
          "choropleth": [
           {
            "colorbar": {
             "outlinewidth": 0,
             "ticks": ""
            },
            "type": "choropleth"
           }
          ],
          "contour": [
           {
            "colorbar": {
             "outlinewidth": 0,
             "ticks": ""
            },
            "colorscale": [
             [
              0,
              "#0d0887"
             ],
             [
              0.1111111111111111,
              "#46039f"
             ],
             [
              0.2222222222222222,
              "#7201a8"
             ],
             [
              0.3333333333333333,
              "#9c179e"
             ],
             [
              0.4444444444444444,
              "#bd3786"
             ],
             [
              0.5555555555555556,
              "#d8576b"
             ],
             [
              0.6666666666666666,
              "#ed7953"
             ],
             [
              0.7777777777777778,
              "#fb9f3a"
             ],
             [
              0.8888888888888888,
              "#fdca26"
             ],
             [
              1,
              "#f0f921"
             ]
            ],
            "type": "contour"
           }
          ],
          "contourcarpet": [
           {
            "colorbar": {
             "outlinewidth": 0,
             "ticks": ""
            },
            "type": "contourcarpet"
           }
          ],
          "heatmap": [
           {
            "colorbar": {
             "outlinewidth": 0,
             "ticks": ""
            },
            "colorscale": [
             [
              0,
              "#0d0887"
             ],
             [
              0.1111111111111111,
              "#46039f"
             ],
             [
              0.2222222222222222,
              "#7201a8"
             ],
             [
              0.3333333333333333,
              "#9c179e"
             ],
             [
              0.4444444444444444,
              "#bd3786"
             ],
             [
              0.5555555555555556,
              "#d8576b"
             ],
             [
              0.6666666666666666,
              "#ed7953"
             ],
             [
              0.7777777777777778,
              "#fb9f3a"
             ],
             [
              0.8888888888888888,
              "#fdca26"
             ],
             [
              1,
              "#f0f921"
             ]
            ],
            "type": "heatmap"
           }
          ],
          "heatmapgl": [
           {
            "colorbar": {
             "outlinewidth": 0,
             "ticks": ""
            },
            "colorscale": [
             [
              0,
              "#0d0887"
             ],
             [
              0.1111111111111111,
              "#46039f"
             ],
             [
              0.2222222222222222,
              "#7201a8"
             ],
             [
              0.3333333333333333,
              "#9c179e"
             ],
             [
              0.4444444444444444,
              "#bd3786"
             ],
             [
              0.5555555555555556,
              "#d8576b"
             ],
             [
              0.6666666666666666,
              "#ed7953"
             ],
             [
              0.7777777777777778,
              "#fb9f3a"
             ],
             [
              0.8888888888888888,
              "#fdca26"
             ],
             [
              1,
              "#f0f921"
             ]
            ],
            "type": "heatmapgl"
           }
          ],
          "histogram": [
           {
            "marker": {
             "pattern": {
              "fillmode": "overlay",
              "size": 10,
              "solidity": 0.2
             }
            },
            "type": "histogram"
           }
          ],
          "histogram2d": [
           {
            "colorbar": {
             "outlinewidth": 0,
             "ticks": ""
            },
            "colorscale": [
             [
              0,
              "#0d0887"
             ],
             [
              0.1111111111111111,
              "#46039f"
             ],
             [
              0.2222222222222222,
              "#7201a8"
             ],
             [
              0.3333333333333333,
              "#9c179e"
             ],
             [
              0.4444444444444444,
              "#bd3786"
             ],
             [
              0.5555555555555556,
              "#d8576b"
             ],
             [
              0.6666666666666666,
              "#ed7953"
             ],
             [
              0.7777777777777778,
              "#fb9f3a"
             ],
             [
              0.8888888888888888,
              "#fdca26"
             ],
             [
              1,
              "#f0f921"
             ]
            ],
            "type": "histogram2d"
           }
          ],
          "histogram2dcontour": [
           {
            "colorbar": {
             "outlinewidth": 0,
             "ticks": ""
            },
            "colorscale": [
             [
              0,
              "#0d0887"
             ],
             [
              0.1111111111111111,
              "#46039f"
             ],
             [
              0.2222222222222222,
              "#7201a8"
             ],
             [
              0.3333333333333333,
              "#9c179e"
             ],
             [
              0.4444444444444444,
              "#bd3786"
             ],
             [
              0.5555555555555556,
              "#d8576b"
             ],
             [
              0.6666666666666666,
              "#ed7953"
             ],
             [
              0.7777777777777778,
              "#fb9f3a"
             ],
             [
              0.8888888888888888,
              "#fdca26"
             ],
             [
              1,
              "#f0f921"
             ]
            ],
            "type": "histogram2dcontour"
           }
          ],
          "mesh3d": [
           {
            "colorbar": {
             "outlinewidth": 0,
             "ticks": ""
            },
            "type": "mesh3d"
           }
          ],
          "parcoords": [
           {
            "line": {
             "colorbar": {
              "outlinewidth": 0,
              "ticks": ""
             }
            },
            "type": "parcoords"
           }
          ],
          "pie": [
           {
            "automargin": true,
            "type": "pie"
           }
          ],
          "scatter": [
           {
            "fillpattern": {
             "fillmode": "overlay",
             "size": 10,
             "solidity": 0.2
            },
            "type": "scatter"
           }
          ],
          "scatter3d": [
           {
            "line": {
             "colorbar": {
              "outlinewidth": 0,
              "ticks": ""
             }
            },
            "marker": {
             "colorbar": {
              "outlinewidth": 0,
              "ticks": ""
             }
            },
            "type": "scatter3d"
           }
          ],
          "scattercarpet": [
           {
            "marker": {
             "colorbar": {
              "outlinewidth": 0,
              "ticks": ""
             }
            },
            "type": "scattercarpet"
           }
          ],
          "scattergeo": [
           {
            "marker": {
             "colorbar": {
              "outlinewidth": 0,
              "ticks": ""
             }
            },
            "type": "scattergeo"
           }
          ],
          "scattergl": [
           {
            "marker": {
             "colorbar": {
              "outlinewidth": 0,
              "ticks": ""
             }
            },
            "type": "scattergl"
           }
          ],
          "scattermapbox": [
           {
            "marker": {
             "colorbar": {
              "outlinewidth": 0,
              "ticks": ""
             }
            },
            "type": "scattermapbox"
           }
          ],
          "scatterpolar": [
           {
            "marker": {
             "colorbar": {
              "outlinewidth": 0,
              "ticks": ""
             }
            },
            "type": "scatterpolar"
           }
          ],
          "scatterpolargl": [
           {
            "marker": {
             "colorbar": {
              "outlinewidth": 0,
              "ticks": ""
             }
            },
            "type": "scatterpolargl"
           }
          ],
          "scatterternary": [
           {
            "marker": {
             "colorbar": {
              "outlinewidth": 0,
              "ticks": ""
             }
            },
            "type": "scatterternary"
           }
          ],
          "surface": [
           {
            "colorbar": {
             "outlinewidth": 0,
             "ticks": ""
            },
            "colorscale": [
             [
              0,
              "#0d0887"
             ],
             [
              0.1111111111111111,
              "#46039f"
             ],
             [
              0.2222222222222222,
              "#7201a8"
             ],
             [
              0.3333333333333333,
              "#9c179e"
             ],
             [
              0.4444444444444444,
              "#bd3786"
             ],
             [
              0.5555555555555556,
              "#d8576b"
             ],
             [
              0.6666666666666666,
              "#ed7953"
             ],
             [
              0.7777777777777778,
              "#fb9f3a"
             ],
             [
              0.8888888888888888,
              "#fdca26"
             ],
             [
              1,
              "#f0f921"
             ]
            ],
            "type": "surface"
           }
          ],
          "table": [
           {
            "cells": {
             "fill": {
              "color": "#EBF0F8"
             },
             "line": {
              "color": "white"
             }
            },
            "header": {
             "fill": {
              "color": "#C8D4E3"
             },
             "line": {
              "color": "white"
             }
            },
            "type": "table"
           }
          ]
         },
         "layout": {
          "annotationdefaults": {
           "arrowcolor": "#2a3f5f",
           "arrowhead": 0,
           "arrowwidth": 1
          },
          "autotypenumbers": "strict",
          "coloraxis": {
           "colorbar": {
            "outlinewidth": 0,
            "ticks": ""
           }
          },
          "colorscale": {
           "diverging": [
            [
             0,
             "#8e0152"
            ],
            [
             0.1,
             "#c51b7d"
            ],
            [
             0.2,
             "#de77ae"
            ],
            [
             0.3,
             "#f1b6da"
            ],
            [
             0.4,
             "#fde0ef"
            ],
            [
             0.5,
             "#f7f7f7"
            ],
            [
             0.6,
             "#e6f5d0"
            ],
            [
             0.7,
             "#b8e186"
            ],
            [
             0.8,
             "#7fbc41"
            ],
            [
             0.9,
             "#4d9221"
            ],
            [
             1,
             "#276419"
            ]
           ],
           "sequential": [
            [
             0,
             "#0d0887"
            ],
            [
             0.1111111111111111,
             "#46039f"
            ],
            [
             0.2222222222222222,
             "#7201a8"
            ],
            [
             0.3333333333333333,
             "#9c179e"
            ],
            [
             0.4444444444444444,
             "#bd3786"
            ],
            [
             0.5555555555555556,
             "#d8576b"
            ],
            [
             0.6666666666666666,
             "#ed7953"
            ],
            [
             0.7777777777777778,
             "#fb9f3a"
            ],
            [
             0.8888888888888888,
             "#fdca26"
            ],
            [
             1,
             "#f0f921"
            ]
           ],
           "sequentialminus": [
            [
             0,
             "#0d0887"
            ],
            [
             0.1111111111111111,
             "#46039f"
            ],
            [
             0.2222222222222222,
             "#7201a8"
            ],
            [
             0.3333333333333333,
             "#9c179e"
            ],
            [
             0.4444444444444444,
             "#bd3786"
            ],
            [
             0.5555555555555556,
             "#d8576b"
            ],
            [
             0.6666666666666666,
             "#ed7953"
            ],
            [
             0.7777777777777778,
             "#fb9f3a"
            ],
            [
             0.8888888888888888,
             "#fdca26"
            ],
            [
             1,
             "#f0f921"
            ]
           ]
          },
          "colorway": [
           "#636efa",
           "#EF553B",
           "#00cc96",
           "#ab63fa",
           "#FFA15A",
           "#19d3f3",
           "#FF6692",
           "#B6E880",
           "#FF97FF",
           "#FECB52"
          ],
          "font": {
           "color": "#2a3f5f"
          },
          "geo": {
           "bgcolor": "white",
           "lakecolor": "white",
           "landcolor": "#E5ECF6",
           "showlakes": true,
           "showland": true,
           "subunitcolor": "white"
          },
          "hoverlabel": {
           "align": "left"
          },
          "hovermode": "closest",
          "mapbox": {
           "style": "light"
          },
          "paper_bgcolor": "white",
          "plot_bgcolor": "#E5ECF6",
          "polar": {
           "angularaxis": {
            "gridcolor": "white",
            "linecolor": "white",
            "ticks": ""
           },
           "bgcolor": "#E5ECF6",
           "radialaxis": {
            "gridcolor": "white",
            "linecolor": "white",
            "ticks": ""
           }
          },
          "scene": {
           "xaxis": {
            "backgroundcolor": "#E5ECF6",
            "gridcolor": "white",
            "gridwidth": 2,
            "linecolor": "white",
            "showbackground": true,
            "ticks": "",
            "zerolinecolor": "white"
           },
           "yaxis": {
            "backgroundcolor": "#E5ECF6",
            "gridcolor": "white",
            "gridwidth": 2,
            "linecolor": "white",
            "showbackground": true,
            "ticks": "",
            "zerolinecolor": "white"
           },
           "zaxis": {
            "backgroundcolor": "#E5ECF6",
            "gridcolor": "white",
            "gridwidth": 2,
            "linecolor": "white",
            "showbackground": true,
            "ticks": "",
            "zerolinecolor": "white"
           }
          },
          "shapedefaults": {
           "line": {
            "color": "#2a3f5f"
           }
          },
          "ternary": {
           "aaxis": {
            "gridcolor": "white",
            "linecolor": "white",
            "ticks": ""
           },
           "baxis": {
            "gridcolor": "white",
            "linecolor": "white",
            "ticks": ""
           },
           "bgcolor": "#E5ECF6",
           "caxis": {
            "gridcolor": "white",
            "linecolor": "white",
            "ticks": ""
           }
          },
          "title": {
           "x": 0.05
          },
          "xaxis": {
           "automargin": true,
           "gridcolor": "white",
           "linecolor": "white",
           "ticks": "",
           "title": {
            "standoff": 15
           },
           "zerolinecolor": "white",
           "zerolinewidth": 2
          },
          "yaxis": {
           "automargin": true,
           "gridcolor": "white",
           "linecolor": "white",
           "ticks": "",
           "title": {
            "standoff": 15
           },
           "zerolinecolor": "white",
           "zerolinewidth": 2
          }
         }
        },
        "title": {
         "text": "Mental State Accuracy vs Head Shots"
        },
        "width": 1000,
        "xaxis": {
         "anchor": "y",
         "domain": [
          0,
          1
         ],
         "title": {
          "text": "Accuracy %"
         }
        },
        "yaxis": {
         "anchor": "x",
         "domain": [
          0,
          1
         ],
         "title": {
          "text": "Head Shots"
         }
        }
       }
      }
     },
     "metadata": {},
     "output_type": "display_data"
    }
   ],
   "source": [
    "fortnite['Accuracy'] = fortnite['Accuracy'].astype(str)\n",
    "fortnite['Accuracy'] = fortnite['Accuracy'].str.rstrip('%').astype('float')\n",
    "\n",
    "fortnite.sort_values(by='Accuracy', inplace=True)\n",
    "\n",
    "accuracyHeadshots = px.bar(\n",
    "    fortnite, \n",
    "    x='Accuracy', \n",
    "    y='Head Shots', \n",
    "    color='Mental State', \n",
    "    title='Mental State Accuracy vs Head Shots', \n",
    "    barmode='group', \n",
    "    labels={'Accuracy': 'Accuracy %'}, \n",
    "    width=1000, \n",
    "    height=600,\n",
    "    color_discrete_map={'sober': 'orange', 'high': 'blue'}\n",
    ")\n",
    "accuracyHeadshots.update_traces(marker_line_width=2, marker_line_color='black', width=1.5)\n",
    "accuracyHeadshots.show()\n"
   ]
  },
  {
   "cell_type": "code",
   "execution_count": 12,
   "metadata": {},
   "outputs": [
    {
     "data": {
      "application/vnd.microsoft.datawrangler.viewer.v0+json": {
       "columns": [
        {
         "name": "index",
         "rawType": "int64",
         "type": "integer"
        },
        {
         "name": "Time",
         "rawType": "category",
         "type": "unknown"
        },
        {
         "name": "Placed",
         "rawType": "int64",
         "type": "integer"
        },
        {
         "name": "Mental State",
         "rawType": "object",
         "type": "string"
        },
        {
         "name": "Eliminations",
         "rawType": "int64",
         "type": "integer"
        },
        {
         "name": "Assists",
         "rawType": "int64",
         "type": "integer"
        },
        {
         "name": "Revives",
         "rawType": "int64",
         "type": "integer"
        },
        {
         "name": "Accuracy",
         "rawType": "float64",
         "type": "float"
        },
        {
         "name": "Hits",
         "rawType": "int64",
         "type": "integer"
        },
        {
         "name": "Head Shots",
         "rawType": "int64",
         "type": "integer"
        },
        {
         "name": "Distance Traveled",
         "rawType": "float64",
         "type": "float"
        },
        {
         "name": "Materials Gathered",
         "rawType": "int64",
         "type": "integer"
        },
        {
         "name": "Materials Used",
         "rawType": "int64",
         "type": "integer"
        },
        {
         "name": "Damage Taken",
         "rawType": "int64",
         "type": "integer"
        },
        {
         "name": "Damage to Players",
         "rawType": "int64",
         "type": "integer"
        },
        {
         "name": "Damage to Structures",
         "rawType": "int64",
         "type": "integer"
        },
        {
         "name": "Date And Time",
         "rawType": "object",
         "type": "string"
        }
       ],
       "conversionMethod": "pd.DataFrame",
       "ref": "3e10f178-4c16-4661-867b-d95189b1e76a",
       "rows": [
        [
         "74",
         "6:00 PM",
         "1",
         "high",
         "4",
         "5",
         "0",
         "16.0",
         "35",
         "3",
         "4460.0",
         "941",
         "350",
         "182",
         "997",
         "5787",
         "15-04 06:00 PM"
        ],
        [
         "38",
         "8:00 PM",
         "1",
         "high",
         "6",
         "3",
         "1",
         "17.0",
         "46",
         "7",
         "3830.0",
         "1907",
         "530",
         "193",
         "1308",
         "18026",
         "13-04 08:00 PM"
        ],
        [
         "20",
         "3:00 PM",
         "1",
         "sober",
         "7",
         "0",
         "0",
         "25.0",
         "63",
         "9",
         "3320.0",
         "541",
         "530",
         "180",
         "1399",
         "17151",
         "11-04 03:00 PM"
        ],
        [
         "30",
         "2:00 PM",
         "2",
         "sober",
         "8",
         "0",
         "1",
         "17.0",
         "34",
         "7",
         "3790.0",
         "3002",
         "1740",
         "321",
         "1166",
         "10594",
         "13-04 02:00 PM"
        ],
        [
         "41",
         "9:00 PM",
         "2",
         "high",
         "6",
         "2",
         "0",
         "27.0",
         "54",
         "5",
         "4050.0",
         "2553",
         "680",
         "400",
         "1383",
         "4945",
         "13-04 09:00 PM"
        ],
        [
         "53",
         "2:00 PM",
         "4",
         "sober",
         "5",
         "3",
         "1",
         "16.0",
         "38",
         "4",
         "3220.0",
         "2215",
         "410",
         "158",
         "1081",
         "8810",
         "14-04 02:00 PM"
        ],
        [
         "15",
         "2:00 PM",
         "4",
         "sober",
         "5",
         "4",
         "4",
         "20.0",
         "35",
         "3",
         "3230.0",
         "715",
         "420",
         "200",
         "894",
         "9494",
         "11-04 02:00 PM"
        ],
        [
         "79",
         "11:00 PM",
         "4",
         "sober",
         "5",
         "2",
         "2",
         "42.0",
         "52",
         "0",
         "3550.0",
         "850",
         "450",
         "436",
         "724",
         "1377",
         "15-04 11:00 PM"
        ],
        [
         "69",
         "2:00 PM",
         "5",
         "sober",
         "6",
         "3",
         "0",
         "11.0",
         "29",
         "3",
         "3350.0",
         "421",
         "230",
         "366",
         "764",
         "11077",
         "15-04 02:00 PM"
        ],
        [
         "16",
         "2:00 PM",
         "5",
         "sober",
         "3",
         "6",
         "1",
         "17.0",
         "32",
         "11",
         "2780.0",
         "384",
         "370",
         "264",
         "787",
         "3589",
         "11-04 02:00 PM"
        ]
       ],
       "shape": {
        "columns": 16,
        "rows": 10
       }
      },
      "text/html": [
       "<div>\n",
       "<style scoped>\n",
       "    .dataframe tbody tr th:only-of-type {\n",
       "        vertical-align: middle;\n",
       "    }\n",
       "\n",
       "    .dataframe tbody tr th {\n",
       "        vertical-align: top;\n",
       "    }\n",
       "\n",
       "    .dataframe thead th {\n",
       "        text-align: right;\n",
       "    }\n",
       "</style>\n",
       "<table border=\"1\" class=\"dataframe\">\n",
       "  <thead>\n",
       "    <tr style=\"text-align: right;\">\n",
       "      <th></th>\n",
       "      <th>Time</th>\n",
       "      <th>Placed</th>\n",
       "      <th>Mental State</th>\n",
       "      <th>Eliminations</th>\n",
       "      <th>Assists</th>\n",
       "      <th>Revives</th>\n",
       "      <th>Accuracy</th>\n",
       "      <th>Hits</th>\n",
       "      <th>Head Shots</th>\n",
       "      <th>Distance Traveled</th>\n",
       "      <th>Materials Gathered</th>\n",
       "      <th>Materials Used</th>\n",
       "      <th>Damage Taken</th>\n",
       "      <th>Damage to Players</th>\n",
       "      <th>Damage to Structures</th>\n",
       "      <th>Date And Time</th>\n",
       "    </tr>\n",
       "  </thead>\n",
       "  <tbody>\n",
       "    <tr>\n",
       "      <th>74</th>\n",
       "      <td>6:00 PM</td>\n",
       "      <td>1</td>\n",
       "      <td>high</td>\n",
       "      <td>4</td>\n",
       "      <td>5</td>\n",
       "      <td>0</td>\n",
       "      <td>16.0</td>\n",
       "      <td>35</td>\n",
       "      <td>3</td>\n",
       "      <td>4460.0</td>\n",
       "      <td>941</td>\n",
       "      <td>350</td>\n",
       "      <td>182</td>\n",
       "      <td>997</td>\n",
       "      <td>5787</td>\n",
       "      <td>15-04 06:00 PM</td>\n",
       "    </tr>\n",
       "    <tr>\n",
       "      <th>38</th>\n",
       "      <td>8:00 PM</td>\n",
       "      <td>1</td>\n",
       "      <td>high</td>\n",
       "      <td>6</td>\n",
       "      <td>3</td>\n",
       "      <td>1</td>\n",
       "      <td>17.0</td>\n",
       "      <td>46</td>\n",
       "      <td>7</td>\n",
       "      <td>3830.0</td>\n",
       "      <td>1907</td>\n",
       "      <td>530</td>\n",
       "      <td>193</td>\n",
       "      <td>1308</td>\n",
       "      <td>18026</td>\n",
       "      <td>13-04 08:00 PM</td>\n",
       "    </tr>\n",
       "    <tr>\n",
       "      <th>20</th>\n",
       "      <td>3:00 PM</td>\n",
       "      <td>1</td>\n",
       "      <td>sober</td>\n",
       "      <td>7</td>\n",
       "      <td>0</td>\n",
       "      <td>0</td>\n",
       "      <td>25.0</td>\n",
       "      <td>63</td>\n",
       "      <td>9</td>\n",
       "      <td>3320.0</td>\n",
       "      <td>541</td>\n",
       "      <td>530</td>\n",
       "      <td>180</td>\n",
       "      <td>1399</td>\n",
       "      <td>17151</td>\n",
       "      <td>11-04 03:00 PM</td>\n",
       "    </tr>\n",
       "    <tr>\n",
       "      <th>30</th>\n",
       "      <td>2:00 PM</td>\n",
       "      <td>2</td>\n",
       "      <td>sober</td>\n",
       "      <td>8</td>\n",
       "      <td>0</td>\n",
       "      <td>1</td>\n",
       "      <td>17.0</td>\n",
       "      <td>34</td>\n",
       "      <td>7</td>\n",
       "      <td>3790.0</td>\n",
       "      <td>3002</td>\n",
       "      <td>1740</td>\n",
       "      <td>321</td>\n",
       "      <td>1166</td>\n",
       "      <td>10594</td>\n",
       "      <td>13-04 02:00 PM</td>\n",
       "    </tr>\n",
       "    <tr>\n",
       "      <th>41</th>\n",
       "      <td>9:00 PM</td>\n",
       "      <td>2</td>\n",
       "      <td>high</td>\n",
       "      <td>6</td>\n",
       "      <td>2</td>\n",
       "      <td>0</td>\n",
       "      <td>27.0</td>\n",
       "      <td>54</td>\n",
       "      <td>5</td>\n",
       "      <td>4050.0</td>\n",
       "      <td>2553</td>\n",
       "      <td>680</td>\n",
       "      <td>400</td>\n",
       "      <td>1383</td>\n",
       "      <td>4945</td>\n",
       "      <td>13-04 09:00 PM</td>\n",
       "    </tr>\n",
       "    <tr>\n",
       "      <th>53</th>\n",
       "      <td>2:00 PM</td>\n",
       "      <td>4</td>\n",
       "      <td>sober</td>\n",
       "      <td>5</td>\n",
       "      <td>3</td>\n",
       "      <td>1</td>\n",
       "      <td>16.0</td>\n",
       "      <td>38</td>\n",
       "      <td>4</td>\n",
       "      <td>3220.0</td>\n",
       "      <td>2215</td>\n",
       "      <td>410</td>\n",
       "      <td>158</td>\n",
       "      <td>1081</td>\n",
       "      <td>8810</td>\n",
       "      <td>14-04 02:00 PM</td>\n",
       "    </tr>\n",
       "    <tr>\n",
       "      <th>15</th>\n",
       "      <td>2:00 PM</td>\n",
       "      <td>4</td>\n",
       "      <td>sober</td>\n",
       "      <td>5</td>\n",
       "      <td>4</td>\n",
       "      <td>4</td>\n",
       "      <td>20.0</td>\n",
       "      <td>35</td>\n",
       "      <td>3</td>\n",
       "      <td>3230.0</td>\n",
       "      <td>715</td>\n",
       "      <td>420</td>\n",
       "      <td>200</td>\n",
       "      <td>894</td>\n",
       "      <td>9494</td>\n",
       "      <td>11-04 02:00 PM</td>\n",
       "    </tr>\n",
       "    <tr>\n",
       "      <th>79</th>\n",
       "      <td>11:00 PM</td>\n",
       "      <td>4</td>\n",
       "      <td>sober</td>\n",
       "      <td>5</td>\n",
       "      <td>2</td>\n",
       "      <td>2</td>\n",
       "      <td>42.0</td>\n",
       "      <td>52</td>\n",
       "      <td>0</td>\n",
       "      <td>3550.0</td>\n",
       "      <td>850</td>\n",
       "      <td>450</td>\n",
       "      <td>436</td>\n",
       "      <td>724</td>\n",
       "      <td>1377</td>\n",
       "      <td>15-04 11:00 PM</td>\n",
       "    </tr>\n",
       "    <tr>\n",
       "      <th>69</th>\n",
       "      <td>2:00 PM</td>\n",
       "      <td>5</td>\n",
       "      <td>sober</td>\n",
       "      <td>6</td>\n",
       "      <td>3</td>\n",
       "      <td>0</td>\n",
       "      <td>11.0</td>\n",
       "      <td>29</td>\n",
       "      <td>3</td>\n",
       "      <td>3350.0</td>\n",
       "      <td>421</td>\n",
       "      <td>230</td>\n",
       "      <td>366</td>\n",
       "      <td>764</td>\n",
       "      <td>11077</td>\n",
       "      <td>15-04 02:00 PM</td>\n",
       "    </tr>\n",
       "    <tr>\n",
       "      <th>16</th>\n",
       "      <td>2:00 PM</td>\n",
       "      <td>5</td>\n",
       "      <td>sober</td>\n",
       "      <td>3</td>\n",
       "      <td>6</td>\n",
       "      <td>1</td>\n",
       "      <td>17.0</td>\n",
       "      <td>32</td>\n",
       "      <td>11</td>\n",
       "      <td>2780.0</td>\n",
       "      <td>384</td>\n",
       "      <td>370</td>\n",
       "      <td>264</td>\n",
       "      <td>787</td>\n",
       "      <td>3589</td>\n",
       "      <td>11-04 02:00 PM</td>\n",
       "    </tr>\n",
       "  </tbody>\n",
       "</table>\n",
       "</div>"
      ],
      "text/plain": [
       "        Time  Placed Mental State  Eliminations  Assists  Revives  Accuracy  \\\n",
       "74   6:00 PM       1         high             4        5        0      16.0   \n",
       "38   8:00 PM       1         high             6        3        1      17.0   \n",
       "20   3:00 PM       1        sober             7        0        0      25.0   \n",
       "30   2:00 PM       2        sober             8        0        1      17.0   \n",
       "41   9:00 PM       2         high             6        2        0      27.0   \n",
       "53   2:00 PM       4        sober             5        3        1      16.0   \n",
       "15   2:00 PM       4        sober             5        4        4      20.0   \n",
       "79  11:00 PM       4        sober             5        2        2      42.0   \n",
       "69   2:00 PM       5        sober             6        3        0      11.0   \n",
       "16   2:00 PM       5        sober             3        6        1      17.0   \n",
       "\n",
       "    Hits  Head Shots  Distance Traveled  Materials Gathered  Materials Used  \\\n",
       "74    35           3             4460.0                 941             350   \n",
       "38    46           7             3830.0                1907             530   \n",
       "20    63           9             3320.0                 541             530   \n",
       "30    34           7             3790.0                3002            1740   \n",
       "41    54           5             4050.0                2553             680   \n",
       "53    38           4             3220.0                2215             410   \n",
       "15    35           3             3230.0                 715             420   \n",
       "79    52           0             3550.0                 850             450   \n",
       "69    29           3             3350.0                 421             230   \n",
       "16    32          11             2780.0                 384             370   \n",
       "\n",
       "    Damage Taken  Damage to Players  Damage to Structures   Date And Time  \n",
       "74           182                997                  5787  15-04 06:00 PM  \n",
       "38           193               1308                 18026  13-04 08:00 PM  \n",
       "20           180               1399                 17151  11-04 03:00 PM  \n",
       "30           321               1166                 10594  13-04 02:00 PM  \n",
       "41           400               1383                  4945  13-04 09:00 PM  \n",
       "53           158               1081                  8810  14-04 02:00 PM  \n",
       "15           200                894                  9494  11-04 02:00 PM  \n",
       "79           436                724                  1377  15-04 11:00 PM  \n",
       "69           366                764                 11077  15-04 02:00 PM  \n",
       "16           264                787                  3589  11-04 02:00 PM  "
      ]
     },
     "execution_count": 12,
     "metadata": {},
     "output_type": "execute_result"
    }
   ],
   "source": [
    "top_10 = fortnite.nsmallest(10, 'Placed')\n",
    "top_10"
   ]
  },
  {
   "cell_type": "code",
   "execution_count": 19,
   "metadata": {},
   "outputs": [
    {
     "data": {
      "application/vnd.plotly.v1+json": {
       "config": {
        "plotlyServerURL": "https://plot.ly"
       },
       "data": [
        {
         "alignmentgroup": "True",
         "bingroup": "y",
         "histfunc": "count",
         "hovertemplate": "Mental State=high<br>count=%{x}<br>Placed=%{y}<extra></extra>",
         "legendgroup": "high",
         "marker": {
          "color": "blue",
          "line": {
           "color": "black",
           "width": 2
          },
          "opacity": 0.75,
          "pattern": {
           "shape": ""
          }
         },
         "name": "high",
         "nbinsy": 5,
         "offsetgroup": "high",
         "orientation": "h",
         "showlegend": true,
         "type": "histogram",
         "xaxis": "x",
         "y": [
          1,
          1,
          2
         ],
         "yaxis": "y"
        },
        {
         "alignmentgroup": "True",
         "bingroup": "y",
         "histfunc": "count",
         "hovertemplate": "Mental State=sober<br>count=%{x}<br>Placed=%{y}<extra></extra>",
         "legendgroup": "sober",
         "marker": {
          "color": "orange",
          "line": {
           "color": "black",
           "width": 2
          },
          "opacity": 0.75,
          "pattern": {
           "shape": ""
          }
         },
         "name": "sober",
         "nbinsy": 5,
         "offsetgroup": "sober",
         "orientation": "h",
         "showlegend": true,
         "type": "histogram",
         "xaxis": "x",
         "y": [
          1,
          2,
          4,
          4,
          4,
          5,
          5
         ],
         "yaxis": "y"
        }
       ],
       "layout": {
        "barmode": "group",
        "legend": {
         "title": {
          "text": "Mental State"
         },
         "tracegroupgap": 0
        },
        "template": {
         "data": {
          "bar": [
           {
            "error_x": {
             "color": "#2a3f5f"
            },
            "error_y": {
             "color": "#2a3f5f"
            },
            "marker": {
             "line": {
              "color": "#E5ECF6",
              "width": 0.5
             },
             "pattern": {
              "fillmode": "overlay",
              "size": 10,
              "solidity": 0.2
             }
            },
            "type": "bar"
           }
          ],
          "barpolar": [
           {
            "marker": {
             "line": {
              "color": "#E5ECF6",
              "width": 0.5
             },
             "pattern": {
              "fillmode": "overlay",
              "size": 10,
              "solidity": 0.2
             }
            },
            "type": "barpolar"
           }
          ],
          "carpet": [
           {
            "aaxis": {
             "endlinecolor": "#2a3f5f",
             "gridcolor": "white",
             "linecolor": "white",
             "minorgridcolor": "white",
             "startlinecolor": "#2a3f5f"
            },
            "baxis": {
             "endlinecolor": "#2a3f5f",
             "gridcolor": "white",
             "linecolor": "white",
             "minorgridcolor": "white",
             "startlinecolor": "#2a3f5f"
            },
            "type": "carpet"
           }
          ],
          "choropleth": [
           {
            "colorbar": {
             "outlinewidth": 0,
             "ticks": ""
            },
            "type": "choropleth"
           }
          ],
          "contour": [
           {
            "colorbar": {
             "outlinewidth": 0,
             "ticks": ""
            },
            "colorscale": [
             [
              0,
              "#0d0887"
             ],
             [
              0.1111111111111111,
              "#46039f"
             ],
             [
              0.2222222222222222,
              "#7201a8"
             ],
             [
              0.3333333333333333,
              "#9c179e"
             ],
             [
              0.4444444444444444,
              "#bd3786"
             ],
             [
              0.5555555555555556,
              "#d8576b"
             ],
             [
              0.6666666666666666,
              "#ed7953"
             ],
             [
              0.7777777777777778,
              "#fb9f3a"
             ],
             [
              0.8888888888888888,
              "#fdca26"
             ],
             [
              1,
              "#f0f921"
             ]
            ],
            "type": "contour"
           }
          ],
          "contourcarpet": [
           {
            "colorbar": {
             "outlinewidth": 0,
             "ticks": ""
            },
            "type": "contourcarpet"
           }
          ],
          "heatmap": [
           {
            "colorbar": {
             "outlinewidth": 0,
             "ticks": ""
            },
            "colorscale": [
             [
              0,
              "#0d0887"
             ],
             [
              0.1111111111111111,
              "#46039f"
             ],
             [
              0.2222222222222222,
              "#7201a8"
             ],
             [
              0.3333333333333333,
              "#9c179e"
             ],
             [
              0.4444444444444444,
              "#bd3786"
             ],
             [
              0.5555555555555556,
              "#d8576b"
             ],
             [
              0.6666666666666666,
              "#ed7953"
             ],
             [
              0.7777777777777778,
              "#fb9f3a"
             ],
             [
              0.8888888888888888,
              "#fdca26"
             ],
             [
              1,
              "#f0f921"
             ]
            ],
            "type": "heatmap"
           }
          ],
          "heatmapgl": [
           {
            "colorbar": {
             "outlinewidth": 0,
             "ticks": ""
            },
            "colorscale": [
             [
              0,
              "#0d0887"
             ],
             [
              0.1111111111111111,
              "#46039f"
             ],
             [
              0.2222222222222222,
              "#7201a8"
             ],
             [
              0.3333333333333333,
              "#9c179e"
             ],
             [
              0.4444444444444444,
              "#bd3786"
             ],
             [
              0.5555555555555556,
              "#d8576b"
             ],
             [
              0.6666666666666666,
              "#ed7953"
             ],
             [
              0.7777777777777778,
              "#fb9f3a"
             ],
             [
              0.8888888888888888,
              "#fdca26"
             ],
             [
              1,
              "#f0f921"
             ]
            ],
            "type": "heatmapgl"
           }
          ],
          "histogram": [
           {
            "marker": {
             "pattern": {
              "fillmode": "overlay",
              "size": 10,
              "solidity": 0.2
             }
            },
            "type": "histogram"
           }
          ],
          "histogram2d": [
           {
            "colorbar": {
             "outlinewidth": 0,
             "ticks": ""
            },
            "colorscale": [
             [
              0,
              "#0d0887"
             ],
             [
              0.1111111111111111,
              "#46039f"
             ],
             [
              0.2222222222222222,
              "#7201a8"
             ],
             [
              0.3333333333333333,
              "#9c179e"
             ],
             [
              0.4444444444444444,
              "#bd3786"
             ],
             [
              0.5555555555555556,
              "#d8576b"
             ],
             [
              0.6666666666666666,
              "#ed7953"
             ],
             [
              0.7777777777777778,
              "#fb9f3a"
             ],
             [
              0.8888888888888888,
              "#fdca26"
             ],
             [
              1,
              "#f0f921"
             ]
            ],
            "type": "histogram2d"
           }
          ],
          "histogram2dcontour": [
           {
            "colorbar": {
             "outlinewidth": 0,
             "ticks": ""
            },
            "colorscale": [
             [
              0,
              "#0d0887"
             ],
             [
              0.1111111111111111,
              "#46039f"
             ],
             [
              0.2222222222222222,
              "#7201a8"
             ],
             [
              0.3333333333333333,
              "#9c179e"
             ],
             [
              0.4444444444444444,
              "#bd3786"
             ],
             [
              0.5555555555555556,
              "#d8576b"
             ],
             [
              0.6666666666666666,
              "#ed7953"
             ],
             [
              0.7777777777777778,
              "#fb9f3a"
             ],
             [
              0.8888888888888888,
              "#fdca26"
             ],
             [
              1,
              "#f0f921"
             ]
            ],
            "type": "histogram2dcontour"
           }
          ],
          "mesh3d": [
           {
            "colorbar": {
             "outlinewidth": 0,
             "ticks": ""
            },
            "type": "mesh3d"
           }
          ],
          "parcoords": [
           {
            "line": {
             "colorbar": {
              "outlinewidth": 0,
              "ticks": ""
             }
            },
            "type": "parcoords"
           }
          ],
          "pie": [
           {
            "automargin": true,
            "type": "pie"
           }
          ],
          "scatter": [
           {
            "fillpattern": {
             "fillmode": "overlay",
             "size": 10,
             "solidity": 0.2
            },
            "type": "scatter"
           }
          ],
          "scatter3d": [
           {
            "line": {
             "colorbar": {
              "outlinewidth": 0,
              "ticks": ""
             }
            },
            "marker": {
             "colorbar": {
              "outlinewidth": 0,
              "ticks": ""
             }
            },
            "type": "scatter3d"
           }
          ],
          "scattercarpet": [
           {
            "marker": {
             "colorbar": {
              "outlinewidth": 0,
              "ticks": ""
             }
            },
            "type": "scattercarpet"
           }
          ],
          "scattergeo": [
           {
            "marker": {
             "colorbar": {
              "outlinewidth": 0,
              "ticks": ""
             }
            },
            "type": "scattergeo"
           }
          ],
          "scattergl": [
           {
            "marker": {
             "colorbar": {
              "outlinewidth": 0,
              "ticks": ""
             }
            },
            "type": "scattergl"
           }
          ],
          "scattermapbox": [
           {
            "marker": {
             "colorbar": {
              "outlinewidth": 0,
              "ticks": ""
             }
            },
            "type": "scattermapbox"
           }
          ],
          "scatterpolar": [
           {
            "marker": {
             "colorbar": {
              "outlinewidth": 0,
              "ticks": ""
             }
            },
            "type": "scatterpolar"
           }
          ],
          "scatterpolargl": [
           {
            "marker": {
             "colorbar": {
              "outlinewidth": 0,
              "ticks": ""
             }
            },
            "type": "scatterpolargl"
           }
          ],
          "scatterternary": [
           {
            "marker": {
             "colorbar": {
              "outlinewidth": 0,
              "ticks": ""
             }
            },
            "type": "scatterternary"
           }
          ],
          "surface": [
           {
            "colorbar": {
             "outlinewidth": 0,
             "ticks": ""
            },
            "colorscale": [
             [
              0,
              "#0d0887"
             ],
             [
              0.1111111111111111,
              "#46039f"
             ],
             [
              0.2222222222222222,
              "#7201a8"
             ],
             [
              0.3333333333333333,
              "#9c179e"
             ],
             [
              0.4444444444444444,
              "#bd3786"
             ],
             [
              0.5555555555555556,
              "#d8576b"
             ],
             [
              0.6666666666666666,
              "#ed7953"
             ],
             [
              0.7777777777777778,
              "#fb9f3a"
             ],
             [
              0.8888888888888888,
              "#fdca26"
             ],
             [
              1,
              "#f0f921"
             ]
            ],
            "type": "surface"
           }
          ],
          "table": [
           {
            "cells": {
             "fill": {
              "color": "#EBF0F8"
             },
             "line": {
              "color": "white"
             }
            },
            "header": {
             "fill": {
              "color": "#C8D4E3"
             },
             "line": {
              "color": "white"
             }
            },
            "type": "table"
           }
          ]
         },
         "layout": {
          "annotationdefaults": {
           "arrowcolor": "#2a3f5f",
           "arrowhead": 0,
           "arrowwidth": 1
          },
          "autotypenumbers": "strict",
          "coloraxis": {
           "colorbar": {
            "outlinewidth": 0,
            "ticks": ""
           }
          },
          "colorscale": {
           "diverging": [
            [
             0,
             "#8e0152"
            ],
            [
             0.1,
             "#c51b7d"
            ],
            [
             0.2,
             "#de77ae"
            ],
            [
             0.3,
             "#f1b6da"
            ],
            [
             0.4,
             "#fde0ef"
            ],
            [
             0.5,
             "#f7f7f7"
            ],
            [
             0.6,
             "#e6f5d0"
            ],
            [
             0.7,
             "#b8e186"
            ],
            [
             0.8,
             "#7fbc41"
            ],
            [
             0.9,
             "#4d9221"
            ],
            [
             1,
             "#276419"
            ]
           ],
           "sequential": [
            [
             0,
             "#0d0887"
            ],
            [
             0.1111111111111111,
             "#46039f"
            ],
            [
             0.2222222222222222,
             "#7201a8"
            ],
            [
             0.3333333333333333,
             "#9c179e"
            ],
            [
             0.4444444444444444,
             "#bd3786"
            ],
            [
             0.5555555555555556,
             "#d8576b"
            ],
            [
             0.6666666666666666,
             "#ed7953"
            ],
            [
             0.7777777777777778,
             "#fb9f3a"
            ],
            [
             0.8888888888888888,
             "#fdca26"
            ],
            [
             1,
             "#f0f921"
            ]
           ],
           "sequentialminus": [
            [
             0,
             "#0d0887"
            ],
            [
             0.1111111111111111,
             "#46039f"
            ],
            [
             0.2222222222222222,
             "#7201a8"
            ],
            [
             0.3333333333333333,
             "#9c179e"
            ],
            [
             0.4444444444444444,
             "#bd3786"
            ],
            [
             0.5555555555555556,
             "#d8576b"
            ],
            [
             0.6666666666666666,
             "#ed7953"
            ],
            [
             0.7777777777777778,
             "#fb9f3a"
            ],
            [
             0.8888888888888888,
             "#fdca26"
            ],
            [
             1,
             "#f0f921"
            ]
           ]
          },
          "colorway": [
           "#636efa",
           "#EF553B",
           "#00cc96",
           "#ab63fa",
           "#FFA15A",
           "#19d3f3",
           "#FF6692",
           "#B6E880",
           "#FF97FF",
           "#FECB52"
          ],
          "font": {
           "color": "#2a3f5f"
          },
          "geo": {
           "bgcolor": "white",
           "lakecolor": "white",
           "landcolor": "#E5ECF6",
           "showlakes": true,
           "showland": true,
           "subunitcolor": "white"
          },
          "hoverlabel": {
           "align": "left"
          },
          "hovermode": "closest",
          "mapbox": {
           "style": "light"
          },
          "paper_bgcolor": "white",
          "plot_bgcolor": "#E5ECF6",
          "polar": {
           "angularaxis": {
            "gridcolor": "white",
            "linecolor": "white",
            "ticks": ""
           },
           "bgcolor": "#E5ECF6",
           "radialaxis": {
            "gridcolor": "white",
            "linecolor": "white",
            "ticks": ""
           }
          },
          "scene": {
           "xaxis": {
            "backgroundcolor": "#E5ECF6",
            "gridcolor": "white",
            "gridwidth": 2,
            "linecolor": "white",
            "showbackground": true,
            "ticks": "",
            "zerolinecolor": "white"
           },
           "yaxis": {
            "backgroundcolor": "#E5ECF6",
            "gridcolor": "white",
            "gridwidth": 2,
            "linecolor": "white",
            "showbackground": true,
            "ticks": "",
            "zerolinecolor": "white"
           },
           "zaxis": {
            "backgroundcolor": "#E5ECF6",
            "gridcolor": "white",
            "gridwidth": 2,
            "linecolor": "white",
            "showbackground": true,
            "ticks": "",
            "zerolinecolor": "white"
           }
          },
          "shapedefaults": {
           "line": {
            "color": "#2a3f5f"
           }
          },
          "ternary": {
           "aaxis": {
            "gridcolor": "white",
            "linecolor": "white",
            "ticks": ""
           },
           "baxis": {
            "gridcolor": "white",
            "linecolor": "white",
            "ticks": ""
           },
           "bgcolor": "#E5ECF6",
           "caxis": {
            "gridcolor": "white",
            "linecolor": "white",
            "ticks": ""
           }
          },
          "title": {
           "x": 0.05
          },
          "xaxis": {
           "automargin": true,
           "gridcolor": "white",
           "linecolor": "white",
           "ticks": "",
           "title": {
            "standoff": 15
           },
           "zerolinecolor": "white",
           "zerolinewidth": 2
          },
          "yaxis": {
           "automargin": true,
           "gridcolor": "white",
           "linecolor": "white",
           "ticks": "",
           "title": {
            "standoff": 15
           },
           "zerolinecolor": "white",
           "zerolinewidth": 2
          }
         }
        },
        "title": {
         "text": "Top 10 Players Mental State"
        },
        "xaxis": {
         "anchor": "y",
         "domain": [
          0,
          1
         ],
         "title": {
          "text": "count"
         }
        },
        "yaxis": {
         "anchor": "x",
         "domain": [
          0,
          1
         ],
         "range": [
          0,
          10
         ],
         "title": {
          "text": "Placed"
         }
        }
       }
      }
     },
     "metadata": {},
     "output_type": "display_data"
    }
   ],
   "source": [
    "top10 = px.histogram(\n",
    "    top_10,\n",
    "    y='Placed',\n",
    "    color='Mental State',\n",
    "    title='Top 10 Players Mental State',\n",
    "    barmode='group',\n",
    "    opacity=0.75,\n",
    "    color_discrete_map={'sober': 'orange', 'high': 'blue'},\n",
    "    nbins=5,\n",
    "    histfunc='count'\n",
    ")\n",
    "top10.update_traces(marker_line_width=2, marker_line_color='black')\n",
    "top10.update_layout(\n",
    "    yaxis=dict(range=[0, 10]),\n",
    "    xaxis=dict(title='count')\n",
    ")\n",
    "top10.show()"
   ]
  },
  {
   "cell_type": "markdown",
   "metadata": {},
   "source": [
    "This graph shows the amount of players & positioning in the final top 10 scorebaord of the video game"
   ]
  },
  {
   "cell_type": "code",
   "execution_count": null,
   "metadata": {},
   "outputs": [
    {
     "data": {
      "image/png": "[encoded data removed]",
      "text/plain": [
       "<Figure size 1299.61x600 with 1 Axes>"
      ]
     },
     "metadata": {},
     "output_type": "display_data"
    }
   ],
   "source": [
    "accuracy = sns.catplot(\n",
    "    x='Accuracy', \n",
    "    hue='Mental State', \n",
    "    kind='count', \n",
    "    data=fortnite, \n",
    "    palette={'sober': 'orange', 'high': 'blue'},\n",
    "    height=6, \n",
    "    aspect=2\n",
    ")\n",
    "accuracy.set_xticklabels(rotation=45, ha='right')\n",
    "plt.title('Accuracy vs Count Comparing High and Sober Mental States')\n",
    "plt.show()"
   ]
  },
  {
   "cell_type": "markdown",
   "metadata": {},
   "source": []
  }
 ],
 "metadata": {
  "kernelspec": {
   "display_name": "Python 3",
   "language": "python",
   "name": "python3"
  },
  "language_info": {
   "codemirror_mode": {
    "name": "ipython",
    "version": 3
   },
   "file_extension": ".py",
   "mimetype": "text/x-python",
   "name": "python",
   "nbconvert_exporter": "python",
   "pygments_lexer": "ipython3",
   "version": "3.13.2"
  }
 },
 "nbformat": 4,
 "nbformat_minor": 2
}
